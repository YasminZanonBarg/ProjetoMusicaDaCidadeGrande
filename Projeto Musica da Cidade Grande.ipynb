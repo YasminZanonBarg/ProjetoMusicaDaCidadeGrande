{
 "cells": [
  {
   "cell_type": "markdown",
   "metadata": {
    "id": "E0vqbgi9ay0H"
   },
   "source": [
    "# Yandex.Music"
   ]
  },
  {
   "cell_type": "markdown",
   "metadata": {
    "id": "fhq_eyov_Zcs"
   },
   "source": [
    "# Contents <a id='back'></a>\n",
    "\n",
    "* [Introdução](#intro)\n",
    "* [Etapa 1. Visão geral dos dados](#data_review)\n",
    "    * [Conclusões](#data_review_conclusions)\n",
    "* [Etapa 2. Pré-processamento de dados](#data_preprocessing)\n",
    "    * [2.1 Estilo do cabeçalho](#header_style)\n",
    "    * [2.2 Valores ausentes](#missing_values)\n",
    "    * [2.3 Duplicatas](#duplicates)\n",
    "    * [2.4 Conclusões](#data_preprocessing_conclusions)\n",
    "* [Etapa 3. Testando as hipóteses](#hypotheses)\n",
    "    * [3.1 Hipótese 1: comparando o comportamento dos usuários em duas cidades](#activity)\n",
    "    * [3.2 Hipótese 2: música no começo e no fim da semana](#week)\n",
    "    * [3.3 Hipótese 3: preferências em Springfield e Shelbyville](#genre)\n",
    "* [Conclusões](#end)"
   ]
  },
  {
   "cell_type": "markdown",
   "metadata": {
    "id": "VUC88oWjTJw2"
   },
   "source": [
    "## Introdução <a id='intro'></a>\n",
    "Sempre que fazemos uma pesquisa, precisamos formular uma hipótese que depois poderemos testar. Às vezes nós aceitamos essas hipóteses; outras vezes, nós as rejeitamos. Para fazer as escolhas certas, um negócio deve ser capaz de entender se está fazendo as suposições certas ou não.\n",
    "\n",
    "Neste projeto, você vai comparar as preferências musicais dos habitantes de Springfild e Shelbyville. Você estudará dados reais do Yandex.Music para testar a hipótese abaixo e comparar o comportamento do usuário para essas duas cidades.\n",
    "\n",
    "### Objetivo: \n",
    "Teste três hipóteses:\n",
    "1. A atividade dos usuários é diferente dependendo do dia da semana e da cidade. \n",
    "2. Durante as manhãs de segunda-feira, os moradores de Springfield e Shelbyville escutam diferentes gêneros. Isso também é verdadeiro para noites de sexta-feira. \n",
    "3. Os ouvintes de Springfield e Shelbyville têm diferentes preferências. Em Springfield, as pessoas preferem pop, enquanto Shelbyville tem mais fãs de rap.\n",
    "\n",
    "### Etapas \n",
    "Os dados sobre o comportamento do usuário é armazenado no arquivo `/datasets/music_project_en.csv`. Não há informação sobre a qualidade dos dados, então, você precisará examiná-los antes de testar a hipótese. \n",
    "\n",
    "Primeiro, você avaliará a qualidade dos dados e ver se seus problemas são significativos. Depois, durante o pré-processamento de dados, você tentará dar conta dos problemas mais críticos problemas.\n",
    " \n",
    "O seu projeto consistirá em três etapas:\n",
    " 1. Visão geral dos dados\n",
    " 2. Pré-processamento de dados\n",
    " 3. Testando as hipóteses\n",
    " \n",
    "[Voltar ao Índice](#back)"
   ]
  },
  {
   "cell_type": "markdown",
   "metadata": {
    "id": "Ml1hmfXC_Zcs"
   },
   "source": [
    "## Etapa 1. Visão geral dos dados <a id='data_review'></a>\n",
    "\n",
    "Abra os dados em Yandex.Music e explore-os."
   ]
  },
  {
   "cell_type": "markdown",
   "metadata": {
    "id": "57eAOGIz_Zcs"
   },
   "source": [
    "Você precisará de `pandas`, então, importe-a."
   ]
  },
  {
   "cell_type": "code",
   "execution_count": 31,
   "metadata": {
    "id": "AXN7PHPN_Zcs"
   },
   "outputs": [],
   "source": [
    "# importando pandas\n",
    "import pandas as pd\n"
   ]
  },
  {
   "cell_type": "markdown",
   "metadata": {
    "id": "SG23P8tt_Zcs"
   },
   "source": [
    "Leia o arquivo `music_project_en.csv` da pasta `/datasets/` e salve-o na variável `df`:"
   ]
  },
  {
   "cell_type": "code",
   "execution_count": 32,
   "metadata": {
    "id": "fFVu7vqh_Zct"
   },
   "outputs": [
    {
     "data": {
      "text/html": [
       "<div>\n",
       "<style scoped>\n",
       "    .dataframe tbody tr th:only-of-type {\n",
       "        vertical-align: middle;\n",
       "    }\n",
       "\n",
       "    .dataframe tbody tr th {\n",
       "        vertical-align: top;\n",
       "    }\n",
       "\n",
       "    .dataframe thead th {\n",
       "        text-align: right;\n",
       "    }\n",
       "</style>\n",
       "<table border=\"1\" class=\"dataframe\">\n",
       "  <thead>\n",
       "    <tr style=\"text-align: right;\">\n",
       "      <th></th>\n",
       "      <th>userID</th>\n",
       "      <th>Track</th>\n",
       "      <th>artist</th>\n",
       "      <th>genre</th>\n",
       "      <th>City</th>\n",
       "      <th>time</th>\n",
       "      <th>Day</th>\n",
       "    </tr>\n",
       "  </thead>\n",
       "  <tbody>\n",
       "    <tr>\n",
       "      <th>count</th>\n",
       "      <td>65079</td>\n",
       "      <td>63736</td>\n",
       "      <td>57512</td>\n",
       "      <td>63881</td>\n",
       "      <td>65079</td>\n",
       "      <td>65079</td>\n",
       "      <td>65079</td>\n",
       "    </tr>\n",
       "    <tr>\n",
       "      <th>unique</th>\n",
       "      <td>41748</td>\n",
       "      <td>39666</td>\n",
       "      <td>37806</td>\n",
       "      <td>268</td>\n",
       "      <td>2</td>\n",
       "      <td>20392</td>\n",
       "      <td>3</td>\n",
       "    </tr>\n",
       "    <tr>\n",
       "      <th>top</th>\n",
       "      <td>A8AE9169</td>\n",
       "      <td>Brand</td>\n",
       "      <td>Kartvelli</td>\n",
       "      <td>pop</td>\n",
       "      <td>Springfield</td>\n",
       "      <td>21:51:22</td>\n",
       "      <td>Friday</td>\n",
       "    </tr>\n",
       "    <tr>\n",
       "      <th>freq</th>\n",
       "      <td>76</td>\n",
       "      <td>136</td>\n",
       "      <td>136</td>\n",
       "      <td>8850</td>\n",
       "      <td>45360</td>\n",
       "      <td>14</td>\n",
       "      <td>23149</td>\n",
       "    </tr>\n",
       "  </tbody>\n",
       "</table>\n",
       "</div>"
      ],
      "text/plain": [
       "          userID  Track     artist  genre       City        time     Day\n",
       "count      65079  63736      57512  63881        65079     65079   65079\n",
       "unique     41748  39666      37806    268            2     20392       3\n",
       "top     A8AE9169  Brand  Kartvelli    pop  Springfield  21:51:22  Friday\n",
       "freq          76    136        136   8850        45360        14   23149"
      ]
     },
     "execution_count": 32,
     "metadata": {},
     "output_type": "execute_result"
    }
   ],
   "source": [
    "# lendo o arquivo e armazenando em df\n",
    "df = pd.read_csv('/datasets/music_project_en.csv')\n",
    "df.describe()"
   ]
  },
  {
   "cell_type": "markdown",
   "metadata": {
    "id": "rDoOMd3uTqnZ"
   },
   "source": [
    "Exiba as primeiras 10 linhas da tabela:"
   ]
  },
  {
   "cell_type": "code",
   "execution_count": 33,
   "metadata": {
    "id": "oWTVX3gW_Zct",
    "scrolled": true
   },
   "outputs": [
    {
     "name": "stdout",
     "output_type": "stream",
     "text": [
      "     userID                        Track            artist   genre  \\\n",
      "\n",
      "0  FFB692EC            Kamigata To Boots  The Mass Missile    rock   \n",
      "\n",
      "1  55204538  Delayed Because of Accident  Andreas Rönnberg    rock   \n",
      "\n",
      "2    20EC38            Funiculì funiculà       Mario Lanza     pop   \n",
      "\n",
      "3  A3DD03C9        Dragons in the Sunset        Fire + Ice    folk   \n",
      "\n",
      "4  E2DC1FAE                  Soul People        Space Echo   dance   \n",
      "\n",
      "5  842029A1                       Chains          Obladaet  rusrap   \n",
      "\n",
      "6  4CB90AA5                         True      Roman Messer   dance   \n",
      "\n",
      "7  F03E1C1F             Feeling This Way   Polina Griffith   dance   \n",
      "\n",
      "8  8FA1D3BE                     L’estate       Julia Dalia  ruspop   \n",
      "\n",
      "9  E772D5C0                    Pessimist               NaN   dance   \n",
      "\n",
      "\n",
      "\n",
      "        City        time        Day  \n",
      "\n",
      "0  Shelbyville  20:28:33  Wednesday  \n",
      "\n",
      "1  Springfield  14:07:09     Friday  \n",
      "\n",
      "2  Shelbyville  20:58:07  Wednesday  \n",
      "\n",
      "3  Shelbyville  08:37:09     Monday  \n",
      "\n",
      "4  Springfield  08:34:34     Monday  \n",
      "\n",
      "5  Shelbyville  13:09:41     Friday  \n",
      "\n",
      "6  Springfield  13:00:07  Wednesday  \n",
      "\n",
      "7  Springfield  20:47:49  Wednesday  \n",
      "\n",
      "8  Springfield  09:17:40     Friday  \n",
      "\n",
      "9  Shelbyville  21:20:49  Wednesday  \n"
     ]
    }
   ],
   "source": [
    "# obtenha as 10 primeiras 10 linhas da tabela df\n",
    "print(df.head(10))"
   ]
  },
  {
   "cell_type": "markdown",
   "metadata": {
    "id": "EO73Kwic_Zct"
   },
   "source": [
    "Obtendo as informações gerais sobre a tabela com um comando:"
   ]
  },
  {
   "cell_type": "code",
   "execution_count": 34,
   "metadata": {
    "id": "DSf2kIb-_Zct"
   },
   "outputs": [
    {
     "name": "stdout",
     "output_type": "stream",
     "text": [
      "<class 'pandas.core.frame.DataFrame'>\n",
      "\n",
      "RangeIndex: 65079 entries, 0 to 65078\n",
      "\n",
      "Data columns (total 7 columns):\n",
      "\n",
      " #   Column    Non-Null Count  Dtype \n",
      "\n",
      "---  ------    --------------  ----- \n",
      "\n",
      " 0     userID  65079 non-null  object\n",
      "\n",
      " 1   Track     63736 non-null  object\n",
      "\n",
      " 2   artist    57512 non-null  object\n",
      "\n",
      " 3   genre     63881 non-null  object\n",
      "\n",
      " 4     City    65079 non-null  object\n",
      "\n",
      " 5   time      65079 non-null  object\n",
      "\n",
      " 6   Day       65079 non-null  object\n",
      "\n",
      "dtypes: object(7)\n",
      "\n",
      "memory usage: 3.5+ MB\n"
     ]
    }
   ],
   "source": [
    "# obtendo informações gerais sobre os dados em df\n",
    "df.info()"
   ]
  },
  {
   "cell_type": "markdown",
   "metadata": {
    "id": "TaQ2Iwbr_Zct"
   },
   "source": [
    "A tabela contém sete colunas. Elas armazenam o mesmo tipo de dado: `object`.\n",
    "\n",
    "De acordo com a documentação:\n",
    "- `'userID'` — identificação do usuário\n",
    "- `'Track'` — título da música\n",
    "- `'artist'` — nome do artista\n",
    "- `'genre'` — o gênero\n",
    "- `'City'` — cidade do usuário\n",
    "- `'time'` — tempo exato que a música foi tocada\n",
    "- `'Day'` — dia da semana\n",
    "\n",
    "Nós podemos ver três problemas com o estilo nos nomes das colunas:\n",
    "1. Alguns nomes estão com letra maiúscula, alguns com letra minúscula.\n",
    "2. Há espaços em alguns nomes.\n",
    "**3. A coluna \"userID\", além de ser minúscula, por ter duas palavras deve ser separada com snake_case, ficando da seguinte maneira: user_id**\n",
    "\n",
    "\n",
    "A quantidade de valores das colunas é diferente. Isso significa que os dados contém valores ausentes.\n"
   ]
  },
  {
   "cell_type": "markdown",
   "metadata": {
    "id": "MCB6-dXG_Zct"
   },
   "source": [
    "### Conclusões <a id='data_review_conclusions'></a> \n",
    "\n",
    "Cada linha na tabela armazena dados sobre uma música que foi tocada. Algumas colunas descrevem a música por si só: seu título, artista e gênero. O restante contém informações sobre o usuário: a cidade de onde eles vêm, a quantidade de vezes que a música foi tocada. \n",
    "\n",
    "Está claro que os dados são suficientes para testar as hipóteses. Entretanto, há valores ausentes.\n",
    "\n",
    "Para seguir adiante, precisamos pré-processar os dados."
   ]
  },
  {
   "cell_type": "markdown",
   "metadata": {
    "id": "3eL__vcwViOi"
   },
   "source": [
    "[Voltar ao Índice](#back)"
   ]
  },
  {
   "cell_type": "markdown",
   "metadata": {
    "id": "SjYF6Ub9_Zct"
   },
   "source": [
    "## Etapa 2. Pré-processar dados <a id='data_preprocessing'></a>\n",
    "Corrija a formatação no cabeçalho da coluna e trabalhe com os valores ausentes. Depois, verifique se há duplicatas nos dados."
   ]
  },
  {
   "cell_type": "markdown",
   "metadata": {
    "id": "dIaKXr29_Zct"
   },
   "source": [
    "### Estilo do cabeçalho <a id='header_style'></a>\n",
    "Exiba o cabeçalho da coluna:"
   ]
  },
  {
   "cell_type": "code",
   "execution_count": 35,
   "metadata": {
    "id": "oKOTdF_Q_Zct"
   },
   "outputs": [
    {
     "data": {
      "text/plain": [
       "Index(['  userID', 'Track', 'artist', 'genre', '  City  ', 'time', 'Day'], dtype='object')"
      ]
     },
     "execution_count": 35,
     "metadata": {},
     "output_type": "execute_result"
    }
   ],
   "source": [
    "# a lista dos nomes das colunas na tabela df\n",
    "df.columns"
   ]
  },
  {
   "cell_type": "markdown",
   "metadata": {
    "id": "zj5534cv_Zct"
   },
   "source": [
    "Mude os nomes das colunas de acordo com as regras da boa prática de estilo:\n",
    "* Se o nome tiver várias palavras, use snake_case\n",
    "* Todos os caracteres precisam estar com letras minúsculas\n",
    "* Delete espaços"
   ]
  },
  {
   "cell_type": "code",
   "execution_count": 37,
   "metadata": {
    "id": "ISlFqs5y_Zct"
   },
   "outputs": [],
   "source": [
    "# renomeando colunas\n",
    "df = df.rename(columns={\n",
    "    '  userID' : 'user_id',\n",
    "    'Track' :'track',\n",
    "    '  City  ' : 'city',\n",
    "    'Day' : 'day'\n",
    "})"
   ]
  },
  {
   "cell_type": "markdown",
   "metadata": {
    "id": "1dqbh00J_Zct"
   },
   "source": [
    "Verifique o resultado. Exiba os nomes das colunas mais uma vez:"
   ]
  },
  {
   "cell_type": "code",
   "execution_count": 38,
   "metadata": {
    "id": "d4NOAmTW_Zct"
   },
   "outputs": [
    {
     "data": {
      "text/plain": [
       "Index(['user_id', 'track', 'artist', 'genre', 'city', 'time', 'day'], dtype='object')"
      ]
     },
     "execution_count": 38,
     "metadata": {},
     "output_type": "execute_result"
    }
   ],
   "source": [
    "# checando o resultado: a lista dos nomes das colunas\n",
    "df.columns"
   ]
  },
  {
   "cell_type": "markdown",
   "metadata": {
    "id": "xYJk6ksJVpOl"
   },
   "source": [
    "[Voltar ao Índice](#back)"
   ]
  },
  {
   "cell_type": "markdown",
   "metadata": {
    "id": "5ISfbcfY_Zct"
   },
   "source": [
    "### Valores ausentes <a id='missing_values'></a>\n",
    "Primeiro, encontre a quantidade de valores ausentes na tabela. Para fazer isso, use dois métodos pandas:"
   ]
  },
  {
   "cell_type": "code",
   "execution_count": 39,
   "metadata": {
    "id": "RskX29qr_Zct"
   },
   "outputs": [
    {
     "name": "stdout",
     "output_type": "stream",
     "text": [
      "user_id       0\n",
      "\n",
      "track      1343\n",
      "\n",
      "artist     7567\n",
      "\n",
      "genre      1198\n",
      "\n",
      "city          0\n",
      "\n",
      "time          0\n",
      "\n",
      "day           0\n",
      "\n",
      "dtype: int64\n"
     ]
    }
   ],
   "source": [
    "# calculando valores ausentes\n",
    "print(df.isna().sum())"
   ]
  },
  {
   "cell_type": "markdown",
   "metadata": {
    "id": "qubhgnlO_Zct"
   },
   "source": [
    "Nem todos os valores ausentes afetam a pesquisa. Por exemplo, os valores ausentes na música e artista não é decisivo. Você pode simplesmente substituí-los por marcadores claros.\n",
    "\n",
    "Mas valores ausentes em `'genre'` pode afetar a comparação de preferências musicais de Springfield e Shelbyville. Na vida real, seria útil descobrir as razões pelas quais os dados estão ausentes e tentar compensá-los. Mas nós não temos essa possibilidade neste projeto. Então, você terá que:\n",
    "* Preencher os valores ausentes com marcadores\n",
    "* Avaliar o quanto os valores ausentes podem afetar os seus cálculos"
   ]
  },
  {
   "cell_type": "markdown",
   "metadata": {
    "id": "fSv2laPA_Zct"
   },
   "source": [
    "Substituir os valores ausentes em `'track'`, `'artist'`, e `'genre'` com a string `'unknown'`. Para fazer isso, crie a lista `columns_to_replace`, percorra-a com o laço `for`, e substitua os valores ausentes em cada uma das colunas:"
   ]
  },
  {
   "cell_type": "code",
   "execution_count": 41,
   "metadata": {
    "id": "KplB5qWs_Zct"
   },
   "outputs": [
    {
     "name": "stdout",
     "output_type": "stream",
     "text": [
      "<class 'pandas.core.frame.DataFrame'>\n",
      "\n",
      "RangeIndex: 65079 entries, 0 to 65078\n",
      "\n",
      "Data columns (total 7 columns):\n",
      "\n",
      " #   Column   Non-Null Count  Dtype \n",
      "\n",
      "---  ------   --------------  ----- \n",
      "\n",
      " 0   user_id  65079 non-null  object\n",
      "\n",
      " 1   track    65079 non-null  object\n",
      "\n",
      " 2   artist   65079 non-null  object\n",
      "\n",
      " 3   genre    65079 non-null  object\n",
      "\n",
      " 4   city     65079 non-null  object\n",
      "\n",
      " 5   time     65079 non-null  object\n",
      "\n",
      " 6   day      65079 non-null  object\n",
      "\n",
      "dtypes: object(7)\n",
      "\n",
      "memory usage: 3.5+ MB\n"
     ]
    }
   ],
   "source": [
    "# percorrendo os nomes das colunas e substituindo valores ausentes com 'unknown'\n",
    "\n",
    "columns_to_replace = ['track','artist','genre']\n",
    "\n",
    "for columns in columns_to_replace:\n",
    "    df[columns] = df[columns].fillna('unknown')\n",
    "\n",
    "\n",
    "df.info()"
   ]
  },
  {
   "cell_type": "markdown",
   "metadata": {
    "id": "Ilsm-MZo_Zct"
   },
   "source": [
    "Certifique-se de que a tabela não contenha mais valores ausentes. Conte os valores ausentes novamente."
   ]
  },
  {
   "cell_type": "code",
   "execution_count": 43,
   "metadata": {
    "id": "Tq4nYRX4_Zct"
   },
   "outputs": [
    {
     "name": "stdout",
     "output_type": "stream",
     "text": [
      "user_id    0\n",
      "\n",
      "track      0\n",
      "\n",
      "artist     0\n",
      "\n",
      "genre      0\n",
      "\n",
      "city       0\n",
      "\n",
      "time       0\n",
      "\n",
      "day        0\n",
      "\n",
      "dtype: int64\n"
     ]
    }
   ],
   "source": [
    "# contando os valores ausentes\n",
    "print(df.isna().sum())"
   ]
  },
  {
   "cell_type": "markdown",
   "metadata": {
    "id": "74ZIBmq9VrsK"
   },
   "source": [
    "[Voltar ao Índice](#back)"
   ]
  },
  {
   "cell_type": "markdown",
   "metadata": {
    "id": "BWKRtBJ3_Zct"
   },
   "source": [
    "### Duplicatas <a id='duplicates'></a>\n",
    "Encontre o número de duplicatas óbvias na tabela usando um comando:"
   ]
  },
  {
   "cell_type": "code",
   "execution_count": 42,
   "metadata": {
    "id": "36eES_S0_Zct"
   },
   "outputs": [
    {
     "name": "stdout",
     "output_type": "stream",
     "text": [
      "3826\n"
     ]
    }
   ],
   "source": [
    "# contando duplicatas claras\n",
    "print(df.duplicated().sum())"
   ]
  },
  {
   "cell_type": "markdown",
   "metadata": {
    "id": "Ot25h6XR_Zct"
   },
   "source": [
    "Chame o método `pandas` para se livrar das duplicatas óbvias:"
   ]
  },
  {
   "cell_type": "code",
   "execution_count": 44,
   "metadata": {
    "id": "exFHq6tt_Zct"
   },
   "outputs": [],
   "source": [
    "# removendo duplicatas óbvias\n",
    "df = df.drop_duplicates().reset_index(drop=True) \n",
    "\n",
    "# Estou usando \".reset_index(drop=True)\" para atualizar os índeces e deletar os antigos, que não vamos mais usar"
   ]
  },
  {
   "cell_type": "markdown",
   "metadata": {
    "id": "Im2YwBEG_Zct"
   },
   "source": [
    "Conte as duplicatas óbvias mais uma vez certifique-se que você removeu todas elas:"
   ]
  },
  {
   "cell_type": "code",
   "execution_count": 45,
   "metadata": {
    "id": "-8PuNWQ0_Zct"
   },
   "outputs": [
    {
     "name": "stdout",
     "output_type": "stream",
     "text": [
      "0\n"
     ]
    }
   ],
   "source": [
    "# verificando duplicatas\n",
    "print(df.duplicated().sum())"
   ]
  },
  {
   "cell_type": "markdown",
   "metadata": {
    "id": "QlFBsxAr_Zct"
   },
   "source": [
    "Agora, livre-se das duplicatas implícitas na coluna genre. Por exemplo, o nome de um gênero pode ser escrito de maneiras diferentes. Alguns erros afetarão também o resultado."
   ]
  },
  {
   "cell_type": "markdown",
   "metadata": {
    "id": "eSjWwsOh_Zct"
   },
   "source": [
    "Exiba a lista de nomes de gêneros únicos, organizados em ordem alfabética. Para fazer isso:\n",
    "* Recupere o DataFrame da coluna pretendida \n",
    "* Aplique um método de escolha para isso\n",
    "* Para a coluna selecionada, chame o método que irá retornar todos os valores únicos das colunas"
   ]
  },
  {
   "cell_type": "code",
   "execution_count": 47,
   "metadata": {
    "id": "JIUcqzZN_Zct"
   },
   "outputs": [
    {
     "data": {
      "text/plain": [
       "array(['acid', 'acoustic', 'action', 'adult', 'africa', 'afrikaans',\n",
       "       'alternative', 'ambient', 'americana', 'animated', 'anime',\n",
       "       'arabesk', 'arabic', 'arena', 'argentinetango', 'art', 'audiobook',\n",
       "       'avantgarde', 'axé', 'baile', 'balkan', 'beats', 'bigroom',\n",
       "       'black', 'bluegrass', 'blues', 'bollywood', 'bossa', 'brazilian',\n",
       "       'breakbeat', 'breaks', 'broadway', 'cantautori', 'cantopop',\n",
       "       'canzone', 'caribbean', 'caucasian', 'celtic', 'chamber',\n",
       "       'children', 'chill', 'chinese', 'choral', 'christian', 'christmas',\n",
       "       'classical', 'classicmetal', 'club', 'colombian', 'comedy',\n",
       "       'conjazz', 'contemporary', 'country', 'cuban', 'dance',\n",
       "       'dancehall', 'dancepop', 'dark', 'death', 'deep', 'deutschrock',\n",
       "       'deutschspr', 'dirty', 'disco', 'dnb', 'documentary', 'downbeat',\n",
       "       'downtempo', 'drum', 'dub', 'dubstep', 'eastern', 'easy',\n",
       "       'electronic', 'electropop', 'emo', 'entehno', 'epicmetal',\n",
       "       'estrada', 'ethnic', 'eurofolk', 'european', 'experimental',\n",
       "       'extrememetal', 'fado', 'film', 'fitness', 'flamenco', 'folk',\n",
       "       'folklore', 'folkmetal', 'folkrock', 'folktronica', 'forró',\n",
       "       'frankreich', 'französisch', 'french', 'funk', 'future', 'gangsta',\n",
       "       'garage', 'german', 'ghazal', 'gitarre', 'glitch', 'gospel',\n",
       "       'gothic', 'grime', 'grunge', 'gypsy', 'handsup', \"hard'n'heavy\",\n",
       "       'hardcore', 'hardstyle', 'hardtechno', 'hip', 'hip-hop', 'hiphop',\n",
       "       'historisch', 'holiday', 'hop', 'horror', 'house', 'idm',\n",
       "       'independent', 'indian', 'indie', 'indipop', 'industrial',\n",
       "       'inspirational', 'instrumental', 'international', 'irish', 'jam',\n",
       "       'japanese', 'jazz', 'jewish', 'jpop', 'jungle', 'k-pop',\n",
       "       'karadeniz', 'karaoke', 'kayokyoku', 'korean', 'laiko', 'latin',\n",
       "       'latino', 'leftfield', 'local', 'lounge', 'loungeelectronic',\n",
       "       'lovers', 'malaysian', 'mandopop', 'marschmusik', 'meditative',\n",
       "       'mediterranean', 'melodic', 'metal', 'metalcore', 'mexican',\n",
       "       'middle', 'minimal', 'miscellaneous', 'modern', 'mood', 'mpb',\n",
       "       'muslim', 'native', 'neoklassik', 'neue', 'new', 'newage',\n",
       "       'newwave', 'nu', 'nujazz', 'numetal', 'oceania', 'old', 'opera',\n",
       "       'orchestral', 'other', 'piano', 'pop', 'popelectronic',\n",
       "       'popeurodance', 'post', 'posthardcore', 'postrock', 'power',\n",
       "       'progmetal', 'progressive', 'psychedelic', 'punjabi', 'punk',\n",
       "       'quebecois', 'ragga', 'ram', 'rancheras', 'rap', 'rave', 'reggae',\n",
       "       'reggaeton', 'regional', 'relax', 'religious', 'retro', 'rhythm',\n",
       "       'rnb', 'rnr', 'rock', 'rockabilly', 'romance', 'roots', 'ruspop',\n",
       "       'rusrap', 'rusrock', 'salsa', 'samba', 'schlager', 'self',\n",
       "       'sertanejo', 'shoegazing', 'showtunes', 'singer', 'ska', 'slow',\n",
       "       'smooth', 'soul', 'soulful', 'sound', 'soundtrack', 'southern',\n",
       "       'specialty', 'speech', 'spiritual', 'sport', 'stonerrock', 'surf',\n",
       "       'swing', 'synthpop', 'sängerportrait', 'tango', 'tanzorchester',\n",
       "       'taraftar', 'tech', 'techno', 'thrash', 'top', 'traditional',\n",
       "       'tradjazz', 'trance', 'tribal', 'trip', 'triphop', 'tropical',\n",
       "       'türk', 'türkçe', 'unknown', 'urban', 'uzbek', 'variété', 'vi',\n",
       "       'videogame', 'vocal', 'western', 'world', 'worldbeat', 'ïîï'],\n",
       "      dtype=object)"
      ]
     },
     "execution_count": 47,
     "metadata": {},
     "output_type": "execute_result"
    }
   ],
   "source": [
    "# visualizando nomes de gêneros únicos\n",
    "df['genre'].sort_values().unique()"
   ]
  },
  {
   "cell_type": "markdown",
   "metadata": {
    "id": "qej-Qmuo_Zct"
   },
   "source": [
    "Olhe a lista e encontre duplicatas implícitas do gênero `hiphop`. Esses podem ser nomes escritos incorretamente, ou nomes alternativos para o mesmo gênero.\n",
    "\n",
    "Você verá as seguintes duplicatas implícitas:\n",
    "* `hip`\n",
    "* `hop`\n",
    "* `hip-hop`\n",
    "\n",
    "Para se livrar deles, declare a função `replace_wrong_genres()` com dois parâmetros: \n",
    "* `wrong_genres=` — a lista de duplicatas\n",
    "* `correct_genre=` — a string com o valor correto\n",
    "\n",
    "A função deve corrigir os nomes na coluna `'genre'` da tabela `df` isto é, substituindo cada valor da lista `wrong_genres` por valores de `correct_genre`."
   ]
  },
  {
   "cell_type": "code",
   "execution_count": 48,
   "metadata": {
    "id": "ErNDkmns_Zct"
   },
   "outputs": [],
   "source": [
    "# função para substituir duplicatas implícitas\n",
    "\n",
    "def replace_wrong_genres(wrong_values, correct_value):\n",
    "    for wrong_value in wrong_values:\n",
    "        df['genre'] = df['genre'].replace(wrong_value, correct_value)\n",
    "        "
   ]
  },
  {
   "cell_type": "markdown",
   "metadata": {
    "id": "aDoBJxbA_Zct"
   },
   "source": [
    "Chame `replace_wrong_genres()` e passe a ela argumentos para que possa eliminar as duplicatas implícitas (`hip`, `hop`, e `hip-hop`) e substituí-los por `hiphop`:"
   ]
  },
  {
   "cell_type": "code",
   "execution_count": 49,
   "metadata": {
    "id": "YN5i2hpmSo09"
   },
   "outputs": [],
   "source": [
    "# removendo duplicatas implícitas\n",
    "\n",
    "duplicates = ['hip', 'hop', 'hip-hop']\n",
    "correct = 'hiphop'\n",
    "        \n",
    "replace_wrong_genres(duplicates, correct)"
   ]
  },
  {
   "cell_type": "markdown",
   "metadata": {
    "id": "zQKF16_RG15m"
   },
   "source": [
    "Certifique-se que os nomes duplicados foram removidos. Exiba a lista de valores únicos da coluna `'genre'`:"
   ]
  },
  {
   "cell_type": "code",
   "execution_count": 51,
   "metadata": {
    "id": "wvixALnFG15m"
   },
   "outputs": [
    {
     "data": {
      "text/plain": [
       "array(['acid', 'acoustic', 'action', 'adult', 'africa', 'afrikaans',\n",
       "       'alternative', 'ambient', 'americana', 'animated', 'anime',\n",
       "       'arabesk', 'arabic', 'arena', 'argentinetango', 'art', 'audiobook',\n",
       "       'avantgarde', 'axé', 'baile', 'balkan', 'beats', 'bigroom',\n",
       "       'black', 'bluegrass', 'blues', 'bollywood', 'bossa', 'brazilian',\n",
       "       'breakbeat', 'breaks', 'broadway', 'cantautori', 'cantopop',\n",
       "       'canzone', 'caribbean', 'caucasian', 'celtic', 'chamber',\n",
       "       'children', 'chill', 'chinese', 'choral', 'christian', 'christmas',\n",
       "       'classical', 'classicmetal', 'club', 'colombian', 'comedy',\n",
       "       'conjazz', 'contemporary', 'country', 'cuban', 'dance',\n",
       "       'dancehall', 'dancepop', 'dark', 'death', 'deep', 'deutschrock',\n",
       "       'deutschspr', 'dirty', 'disco', 'dnb', 'documentary', 'downbeat',\n",
       "       'downtempo', 'drum', 'dub', 'dubstep', 'eastern', 'easy',\n",
       "       'electronic', 'electropop', 'emo', 'entehno', 'epicmetal',\n",
       "       'estrada', 'ethnic', 'eurofolk', 'european', 'experimental',\n",
       "       'extrememetal', 'fado', 'film', 'fitness', 'flamenco', 'folk',\n",
       "       'folklore', 'folkmetal', 'folkrock', 'folktronica', 'forró',\n",
       "       'frankreich', 'französisch', 'french', 'funk', 'future', 'gangsta',\n",
       "       'garage', 'german', 'ghazal', 'gitarre', 'glitch', 'gospel',\n",
       "       'gothic', 'grime', 'grunge', 'gypsy', 'handsup', \"hard'n'heavy\",\n",
       "       'hardcore', 'hardstyle', 'hardtechno', 'hiphop', 'historisch',\n",
       "       'holiday', 'horror', 'house', 'idm', 'independent', 'indian',\n",
       "       'indie', 'indipop', 'industrial', 'inspirational', 'instrumental',\n",
       "       'international', 'irish', 'jam', 'japanese', 'jazz', 'jewish',\n",
       "       'jpop', 'jungle', 'k-pop', 'karadeniz', 'karaoke', 'kayokyoku',\n",
       "       'korean', 'laiko', 'latin', 'latino', 'leftfield', 'local',\n",
       "       'lounge', 'loungeelectronic', 'lovers', 'malaysian', 'mandopop',\n",
       "       'marschmusik', 'meditative', 'mediterranean', 'melodic', 'metal',\n",
       "       'metalcore', 'mexican', 'middle', 'minimal', 'miscellaneous',\n",
       "       'modern', 'mood', 'mpb', 'muslim', 'native', 'neoklassik', 'neue',\n",
       "       'new', 'newage', 'newwave', 'nu', 'nujazz', 'numetal', 'oceania',\n",
       "       'old', 'opera', 'orchestral', 'other', 'piano', 'pop',\n",
       "       'popelectronic', 'popeurodance', 'post', 'posthardcore',\n",
       "       'postrock', 'power', 'progmetal', 'progressive', 'psychedelic',\n",
       "       'punjabi', 'punk', 'quebecois', 'ragga', 'ram', 'rancheras', 'rap',\n",
       "       'rave', 'reggae', 'reggaeton', 'regional', 'relax', 'religious',\n",
       "       'retro', 'rhythm', 'rnb', 'rnr', 'rock', 'rockabilly', 'romance',\n",
       "       'roots', 'ruspop', 'rusrap', 'rusrock', 'salsa', 'samba',\n",
       "       'schlager', 'self', 'sertanejo', 'shoegazing', 'showtunes',\n",
       "       'singer', 'ska', 'slow', 'smooth', 'soul', 'soulful', 'sound',\n",
       "       'soundtrack', 'southern', 'specialty', 'speech', 'spiritual',\n",
       "       'sport', 'stonerrock', 'surf', 'swing', 'synthpop',\n",
       "       'sängerportrait', 'tango', 'tanzorchester', 'taraftar', 'tech',\n",
       "       'techno', 'thrash', 'top', 'traditional', 'tradjazz', 'trance',\n",
       "       'tribal', 'trip', 'triphop', 'tropical', 'türk', 'türkçe',\n",
       "       'unknown', 'urban', 'uzbek', 'variété', 'vi', 'videogame', 'vocal',\n",
       "       'western', 'world', 'worldbeat', 'ïîï'], dtype=object)"
      ]
     },
     "execution_count": 51,
     "metadata": {},
     "output_type": "execute_result"
    }
   ],
   "source": [
    "# verificando valores duplicados\n",
    "df['genre'].sort_values().unique()\n"
   ]
  },
  {
   "cell_type": "markdown",
   "metadata": {
    "id": "ALgNbvF3VtPA"
   },
   "source": [
    "[Voltar ao Índice](#back)"
   ]
  },
  {
   "cell_type": "markdown",
   "metadata": {
    "id": "jz6a9-7HQUDd"
   },
   "source": [
    "### Conclusões <a id='data_preprocessing_conclusions'></a>\n",
    "Nós detectamos três problemas com os dados:\n",
    "\n",
    "- Estilo de cabeçalho incorreto\n",
    "- Valores ausentes\n",
    "- Duplicatas óbvias e implícitas\n",
    "\n",
    "O cabeçalho foi limpo para fazer o processamento da tabela mais simples.\n",
    "\n",
    "Todos os valores ausentes foram substituídos por `'unknown'`. Mas nós ainda temos que ver os se valores ausentes em `'genre'` afetará os nossos cálculos.\n",
    "\n",
    "A ausência de duplicatas deixará os resultados mais precisos e mais fáceis de entender.\n",
    "\n",
    "Agora você pode seguir para testar hipóteses."
   ]
  },
  {
   "cell_type": "markdown",
   "metadata": {
    "id": "eK1es74rVujj"
   },
   "source": [
    "[Voltar ao Índice](#back)"
   ]
  },
  {
   "cell_type": "markdown",
   "metadata": {
    "id": "WttZHXH0SqKk"
   },
   "source": [
    "## Etapa 3. Testando hipóteses <a id='hypotheses'></a>"
   ]
  },
  {
   "cell_type": "markdown",
   "metadata": {
    "id": "Im936VVi_Zcu"
   },
   "source": [
    "### Hipótese 1: comparando o comportamento dos usuários em duas cidades <a id='activity'></a>"
   ]
  },
  {
   "cell_type": "markdown",
   "metadata": {
    "id": "nwt_MuaL_Zcu"
   },
   "source": [
    "De acordo com a primeira hipótese, usuários de Springfield and Shelbyville escutam música de forma diferente. Teste essa hipótese usando os dados de três dias da semana: segunda-feira, quarta-feira, e sexta-feira.\n",
    "\n",
    "* Divida os usuários de cada cidade em grupos.\n",
    "* Compare quantas músicas cada grupo escutou na segunda-feira, quarta-feira e sexta-feira.\n"
   ]
  },
  {
   "cell_type": "markdown",
   "metadata": {
    "id": "8Dw_YMmT_Zcu"
   },
   "source": [
    "Por uma questão de prática, faça cada um desses cálculos separadamente. \n",
    "\n",
    "Avalie a atividade do usuário em cada cidade. Agrupe os dados por cidade e encontre o número de músicas tocadas em cada grupo.\n",
    "\n"
   ]
  },
  {
   "cell_type": "code",
   "execution_count": 53,
   "metadata": {
    "id": "0_Qs96oh_Zcu"
   },
   "outputs": [
    {
     "data": {
      "text/plain": [
       "city\n",
       "Shelbyville    18512\n",
       "Springfield    42741\n",
       "Name: track, dtype: int64"
      ]
     },
     "execution_count": 53,
     "metadata": {},
     "output_type": "execute_result"
    }
   ],
   "source": [
    "# Contando as músicas tocadas em cada cidade\n",
    "\n",
    "df.groupby('city')['track'].count()"
   ]
  },
  {
   "cell_type": "markdown",
   "metadata": {
    "id": "dzli3w8o_Zcu"
   },
   "source": [
    "Springfield tem mais músicas tocadas do que Shelbyville. Mas isso não quer dizer que os cidadãos de Springfield escutam música com mais frequência. Essa cidade é somente maior, e tem mais usuários.\n",
    "\n",
    "Agora agrupe os dados por dia da semana e encontre a quantidade de músicas tocadas na segunda, quarta e sexta-feira.\n"
   ]
  },
  {
   "cell_type": "code",
   "execution_count": 54,
   "metadata": {
    "id": "uZMKjiJz_Zcu"
   },
   "outputs": [
    {
     "data": {
      "text/plain": [
       "day\n",
       "Friday       21840\n",
       "Monday       21354\n",
       "Wednesday    18059\n",
       "Name: track, dtype: int64"
      ]
     },
     "execution_count": 54,
     "metadata": {},
     "output_type": "execute_result"
    }
   ],
   "source": [
    "# Calculando as músicas escutadas em cada um desses três dias\n",
    "df.groupby('day')['track'].count()"
   ]
  },
  {
   "cell_type": "markdown",
   "metadata": {
    "id": "cC2tNrlL_Zcu"
   },
   "source": [
    "Quarta-feira é o dia mais calmo em geral. Mas se considerarmos as duas cidades separadamente, devemos chegar a uma conclusão diferente."
   ]
  },
  {
   "cell_type": "markdown",
   "metadata": {
    "id": "POzs8bGa_Zcu"
   },
   "source": [
    "Você viu como agrupar por cidade ou dia da semana funciona. Agora escreva a função que agrupar os dados pelos dois critérios.\n",
    "\n",
    "Crie a função `number_tracks()` para calcular o número de músicas tocadas em um determinado dia da semana e em cada cidade. Será necessários dois parâmetros:\n",
    "* dia da semana\n",
    "* nome da cidade\n",
    "\n",
    "Na função, use a variável para armazenar as linhas da tabela original, onde:\n",
    "  * `'day'` o valor da coluna `day` é igual ao parâmetro dia\n",
    "  * `'city'` o valor da coluna `city` é igual ao parâmetro cidade\n",
    "\n",
    "Aplique filtros consecutivos com indexação lógica.\n",
    "\n",
    "Depois, calcule os valores da coluna `'user_id'` na tabela resultante. Armazene o resultado na nova variável. Retorne essa variável da função."
   ]
  },
  {
   "cell_type": "code",
   "execution_count": 58,
   "metadata": {
    "id": "Nz3GdQB1_Zcu"
   },
   "outputs": [
    {
     "data": {
      "text/plain": [
       "15740"
      ]
     },
     "execution_count": 58,
     "metadata": {},
     "output_type": "execute_result"
    }
   ],
   "source": [
    "# <criando a função number_tracks()>\n",
    "\n",
    "def number_tracks(day, city):\n",
    "    track_list = df.loc[df['day'] == day] \n",
    "    track_list = track_list.loc[track_list['city']== city]\n",
    "    track_list_count = track_list['user_id'].count()\n",
    "    return track_list_count\n",
    "    \n",
    "\n",
    "number_tracks('Monday', 'Springfield')\n",
    "    \n",
    "\n",
    "# vamos declarar a função com dois parâmetros: day=, city=.\n",
    "# Deixe a variável track_list armazenar as linha df onde\n",
    "# o valor na coluna 'day' é igual ao parâmetro day= e ao mesmo tempo, \n",
    "# o valor na coluna 'city' é igual ao parâmetro city= (aplique filtragem consecutiva \n",
    "# com indexação lógica).\n",
    "# Deixe a variável track_list_count armazenar o número de valores da coluna 'user_id' em track_list\n",
    "# (encontre com o método count()).\n",
    "# Deixe a função retornar um número: o valor de track_list_count.\n",
    "\n",
    "# A função conta músicas tocadas por uma certa cidade e dia.\n",
    "# primeiro retorne as linhas com o dia pretendido da tabela,\n",
    "# depois filtre as linhas com a cidade pretendida a parir do resultado,\n",
    "# depois encontre o número de valores de 'user_id' na tabela filtrada,\n",
    "# então retorne aquele número.\n",
    "# Para o que ele retorna, envolva a função call em print()."
   ]
  },
  {
   "cell_type": "markdown",
   "metadata": {
    "id": "ytf7xFrFJQ2r"
   },
   "source": [
    "Chame a `number_tracks()` seis vezes, mudando os valores dos parâmetros, para que você recupere os dados de ambas as cidades para os três dias."
   ]
  },
  {
   "cell_type": "code",
   "execution_count": 65,
   "metadata": {
    "id": "rJcRATNQ_Zcu"
   },
   "outputs": [
    {
     "name": "stdout",
     "output_type": "stream",
     "text": [
      "15740\n"
     ]
    }
   ],
   "source": [
    "# a quantidade de músicas tocadas em Springfield na segunda-feira\n",
    "spr_mon = number_tracks('Monday', 'Springfield')"
   ]
  },
  {
   "cell_type": "code",
   "execution_count": 61,
   "metadata": {
    "id": "hq_ncZ5T_Zcu"
   },
   "outputs": [],
   "source": [
    "# a quantidade de músicas tocadas em Shelbyville na segunda-feira\n",
    "she_mon = number_tracks('Monday', 'Shelbyville')"
   ]
  },
  {
   "cell_type": "code",
   "execution_count": 62,
   "metadata": {
    "id": "_NTy2VPU_Zcu"
   },
   "outputs": [],
   "source": [
    "# a quantidade de músicas tocadas em Springfield na quarta-feira\n",
    "spr_wed = number_tracks('Wednesday', 'Springfield')"
   ]
  },
  {
   "cell_type": "code",
   "execution_count": 63,
   "metadata": {
    "id": "j2y3TAwo_Zcu"
   },
   "outputs": [],
   "source": [
    "# a quantidade de músicas tocadas em Shelbyville na quarta-feira\n",
    "she_wed = number_tracks('Wednesday', 'Shelbyville')"
   ]
  },
  {
   "cell_type": "code",
   "execution_count": 64,
   "metadata": {
    "id": "vYDw5u_K_Zcu"
   },
   "outputs": [],
   "source": [
    "# a quantidade de músicas tocadas em Springfield na sexta-feira\n",
    "spr_fri = number_tracks('Friday', 'Springfield')"
   ]
  },
  {
   "cell_type": "code",
   "execution_count": 67,
   "metadata": {
    "id": "8_yzFtW3_Zcu"
   },
   "outputs": [],
   "source": [
    "# a quantidade de músicas tocadas em Shelbyville na sexta-feira\n",
    "she_fri = number_tracks('Friday', 'Shelbyville')"
   ]
  },
  {
   "cell_type": "markdown",
   "metadata": {
    "id": "7QXffbO-_Zcu"
   },
   "source": [
    "Use `pd.DataFrame` para criar uma tabela, onde\n",
    "* Os nomes das colunas são: `['city', 'monday', 'wednesday', 'friday']`\n",
    "* Os dados são o resultado que você recebe de `number_tracks()`"
   ]
  },
  {
   "cell_type": "code",
   "execution_count": 68,
   "metadata": {
    "id": "APAcLpOr_Zcu"
   },
   "outputs": [
    {
     "data": {
      "text/html": [
       "<div>\n",
       "<style scoped>\n",
       "    .dataframe tbody tr th:only-of-type {\n",
       "        vertical-align: middle;\n",
       "    }\n",
       "\n",
       "    .dataframe tbody tr th {\n",
       "        vertical-align: top;\n",
       "    }\n",
       "\n",
       "    .dataframe thead th {\n",
       "        text-align: right;\n",
       "    }\n",
       "</style>\n",
       "<table border=\"1\" class=\"dataframe\">\n",
       "  <thead>\n",
       "    <tr style=\"text-align: right;\">\n",
       "      <th></th>\n",
       "      <th>city</th>\n",
       "      <th>monday</th>\n",
       "      <th>wednesday</th>\n",
       "      <th>friday</th>\n",
       "    </tr>\n",
       "  </thead>\n",
       "  <tbody>\n",
       "    <tr>\n",
       "      <th>0</th>\n",
       "      <td>Springfield</td>\n",
       "      <td>15740</td>\n",
       "      <td>11056</td>\n",
       "      <td>15945</td>\n",
       "    </tr>\n",
       "    <tr>\n",
       "      <th>1</th>\n",
       "      <td>Shelbyville</td>\n",
       "      <td>5614</td>\n",
       "      <td>7003</td>\n",
       "      <td>5895</td>\n",
       "    </tr>\n",
       "  </tbody>\n",
       "</table>\n",
       "</div>"
      ],
      "text/plain": [
       "          city  monday  wednesday  friday\n",
       "0  Springfield   15740      11056   15945\n",
       "1  Shelbyville    5614       7003    5895"
      ]
     },
     "execution_count": 68,
     "metadata": {},
     "output_type": "execute_result"
    }
   ],
   "source": [
    "# tabela com resultados\n",
    "columns = ['city', 'monday', 'wednesday', 'friday']\n",
    "data = [['Springfield',spr_mon,spr_wed,spr_fri],['Shelbyville',she_mon,she_wed,she_fri]]\n",
    "\n",
    "pd.DataFrame(data = data, columns = columns)"
   ]
  },
  {
   "cell_type": "markdown",
   "metadata": {
    "id": "-EgPIHYu_Zcu"
   },
   "source": [
    "**Conclusões**\n",
    "\n",
    "Os dados revelam diferenças no comportamento dos usuários:\n",
    "\n",
    "- Em Springfield, a quantidade de músicas tocadas tem seu auge nas segundas e sextas-feiras, enquanto na quarta-feira há uma diminuição na atividade.\n",
    "- Em Shelbyville, ao contrário, usuários escutam mais música na quarta-feira. A atividade na segunda e sexta-feira é pequena.\n",
    "\n",
    "Então a primeira hipótese parece ser correta."
   ]
  },
  {
   "cell_type": "markdown",
   "metadata": {
    "id": "p7nFQajCVw5B"
   },
   "source": [
    "[Voltar ao Índice](#back)"
   ]
  },
  {
   "cell_type": "markdown",
   "metadata": {
    "id": "atZAxtq4_Zcu"
   },
   "source": [
    "### Hipótese 2: música no começo e no fim da semana <a id='week'></a>"
   ]
  },
  {
   "cell_type": "markdown",
   "metadata": {
    "id": "eXrQqXFH_Zcu"
   },
   "source": [
    "De acordo com a segunda hipótese, na segunda-feira de manhã e sexta-feira à noite, habitantes de Springfield escutam gêneros que diferem de alguns usuários de Shelbyville gostam."
   ]
  },
  {
   "cell_type": "markdown",
   "metadata": {
    "id": "S8UcW6Hw_Zcu"
   },
   "source": [
    "Obtenha uma tabela (certifique-se de que o nome da sua tabela combinada corresponda ao DataFrame dado em dois blocos de código abaixo):\n",
    "* Para Springfield — `spr_general`\n",
    "* Para Shelbyville — `shel_general`"
   ]
  },
  {
   "cell_type": "code",
   "execution_count": 74,
   "metadata": {
    "id": "qeaFfM_P_Zcu"
   },
   "outputs": [],
   "source": [
    "# obtendo a tabela spr_generala partir das linhas df, \n",
    "# onde o valor na coluna 'city' é 'Springfield'\n",
    "spr_general = df.loc[df['city'] == 'Springfield']"
   ]
  },
  {
   "cell_type": "code",
   "execution_count": 75,
   "metadata": {
    "id": "ORaVRKto_Zcu"
   },
   "outputs": [],
   "source": [
    "# obtendo os shel_general a partir das linhas df,\n",
    "# onde os valores na coluna 'city' é 'Shelbyville'\n",
    "shel_general = df.loc[df['city'] == 'Shelbyville']"
   ]
  },
  {
   "cell_type": "markdown",
   "metadata": {
    "id": "MEJV-CX2_Zcu"
   },
   "source": [
    "Escreva a função `genre_weekday()` com quatro parâmetros:\n",
    "* Uma tabela para dados (`df`)\n",
    "* O dia da semana (`day`)\n",
    "* O primeiro carimbo de hora, no formato 'HH:MM' (`time1`)\n",
    "* O último carimbo de hora, no formato 'HH,MM' (`time2`)\n",
    "\n",
    "A função deve retornar informações sobre os 15 gêneros mais populares em um determinado dia, dentro do período entre os dois carimbos de hora."
   ]
  },
  {
   "cell_type": "code",
   "execution_count": 77,
   "metadata": {
    "id": "laJT9BYl_Zcu"
   },
   "outputs": [],
   "source": [
    "# Declarando a função genre_weekday() com os parâmetros day=, time1=, e time2=. It should\n",
    "# retornar a informação sobre os gêneros mais populares em um determinado dia em um período específico:\n",
    "\n",
    "# 1) Deixe a variável genre_df armazenar as linhas que satisfazem várias condições:\n",
    "#    - o valor na coluna 'day' é igual ao valor do argumento day=\n",
    "#    - o valor na coluna 'time' é maior do que o valor do argumento time1=\n",
    "#    - o valor na coluna 'time' é menor do que o valor do argumento time2=\n",
    "#    Use filtros consecutivos com indexação lógica.\n",
    "\n",
    "# 2) Agrupe genre_df pela coluna 'genre', pegue uma das suas colunas, \n",
    "#    e use o método count() para encontrar a quantidade de entradas para entradas de cada um dos \n",
    "#    representantes de gênero; armazene o objeto Series resultante na\n",
    "#    variável genre_df_count\n",
    "\n",
    "# 3) Organize genre_df_count em ordem decrescente de frequência e armazene o resultado\n",
    "#    para a variável genre_df_sorted\n",
    "\n",
    "# 4) Retorne um objeto Series com os primeiros 15 valores genre_df_sorted - os 15 maiores\n",
    "#    generos populares (em um determinado dia, dentro de um certo intervalo de tempo)\n",
    "\n",
    "# Escreva a sua função aqui\n",
    "def genre_weekday(df, day, time1, time2):\n",
    "    # filtragem consecutiva\n",
    "    # genre_df armazenará apenas as linhas df onde o dia é igual a day=\n",
    "    genre_df = df[df['day'] == day]\n",
    "\n",
    "    # genre_df armazenará apenas aslinhas df que o tempo é menor do que time2=\n",
    "    genre_df = genre_df[genre_df['time'] < time2]\n",
    "\n",
    "    # genre_df armazenará apenas as linhas onde onde o tempo é maior do que time1=\n",
    "    genre_df = genre_df[genre_df['time'] > time1]\n",
    "\n",
    "    # agrope o DataFrame filtrado pela coluna com nomes dos gêneros, pegue a coluna gênero, e encontre o número de linhas para cada gênero com o método count()\n",
    "    #genre_df_grouped = \n",
    "    genre_df_count = genre_df.groupby('genre')['user_id'].count()\n",
    "\n",
    "    # nós vamos armazenar o resultado em ordem decrescente (para que os gêneros mais populares venham primeiro no objeto Series)\n",
    "    genre_df_sorted = genre_df_count.sort_values(ascending=False)\n",
    "    \n",
    "    # nós vamos retornar o objeto Serie armazenando os 15 gêneros mais populares em um determinado dia, dentro de um determinado intervalo de tempo\n",
    "    return genre_df_sorted[:15]"
   ]
  },
  {
   "cell_type": "markdown",
   "metadata": {
    "id": "la2s2_PF_Zcu"
   },
   "source": [
    "Compare os resultados da função `genre_weekday()` para Springfield e Shelbyville na segunda-feira de manhã (de 7hs à 11hs) e na sexta-feira de tarde (das 17hs às 23hs):"
   ]
  },
  {
   "cell_type": "code",
   "execution_count": 78,
   "metadata": {
    "id": "yz7itPUQ_Zcu"
   },
   "outputs": [
    {
     "data": {
      "text/plain": [
       "genre\n",
       "pop            781\n",
       "dance          549\n",
       "electronic     480\n",
       "rock           474\n",
       "hiphop         286\n",
       "ruspop         186\n",
       "world          181\n",
       "rusrap         175\n",
       "alternative    164\n",
       "unknown        161\n",
       "classical      157\n",
       "metal          120\n",
       "jazz           100\n",
       "folk            97\n",
       "soundtrack      95\n",
       "Name: user_id, dtype: int64"
      ]
     },
     "execution_count": 78,
     "metadata": {},
     "output_type": "execute_result"
    }
   ],
   "source": [
    "# chamando a função para segunda-feira de manha em Springfield (use spr_general em vez de df table)\n",
    "genre_weekday(spr_general, 'Monday', '07:00', '11:00')"
   ]
  },
  {
   "cell_type": "code",
   "execution_count": 79,
   "metadata": {
    "id": "kwUcHPdy_Zcu"
   },
   "outputs": [
    {
     "data": {
      "text/plain": [
       "genre\n",
       "pop            218\n",
       "dance          182\n",
       "rock           162\n",
       "electronic     147\n",
       "hiphop          80\n",
       "ruspop          64\n",
       "alternative     58\n",
       "rusrap          55\n",
       "jazz            44\n",
       "classical       40\n",
       "world           36\n",
       "rap             32\n",
       "soundtrack      31\n",
       "rnb             27\n",
       "metal           27\n",
       "Name: user_id, dtype: int64"
      ]
     },
     "execution_count": 79,
     "metadata": {},
     "output_type": "execute_result"
    }
   ],
   "source": [
    "# chamando a função para segunda-feira de manhã em Shelbyville (use shel_general em vez de df table)\n",
    "genre_weekday(shel_general, 'Monday', '07:00', '11:00')"
   ]
  },
  {
   "cell_type": "code",
   "execution_count": 80,
   "metadata": {
    "id": "EzXVRE1o_Zcu"
   },
   "outputs": [
    {
     "data": {
      "text/plain": [
       "genre\n",
       "pop            365\n",
       "rock           287\n",
       "dance          259\n",
       "electronic     227\n",
       "hiphop         145\n",
       "world          112\n",
       "ruspop          90\n",
       "alternative     82\n",
       "rusrap          79\n",
       "classical       75\n",
       "unknown         68\n",
       "soundtrack      50\n",
       "jazz            48\n",
       "rnb             47\n",
       "folk            44\n",
       "Name: user_id, dtype: int64"
      ]
     },
     "execution_count": 80,
     "metadata": {},
     "output_type": "execute_result"
    }
   ],
   "source": [
    "# chamando a função para sexta-feira à tarde em Springfield\n",
    "genre_weekday(spr_general, 'Friday', '17:00', '21:00')"
   ]
  },
  {
   "cell_type": "code",
   "execution_count": 81,
   "metadata": {
    "id": "JZaEKu5v_Zcu"
   },
   "outputs": [
    {
     "data": {
      "text/plain": [
       "genre\n",
       "rock           126\n",
       "pop            120\n",
       "dance          111\n",
       "electronic      94\n",
       "hiphop          50\n",
       "jazz            39\n",
       "unknown         33\n",
       "classical       32\n",
       "alternative     32\n",
       "world           29\n",
       "ruspop          24\n",
       "latin           22\n",
       "rusrap          21\n",
       "folk            21\n",
       "metal           20\n",
       "Name: user_id, dtype: int64"
      ]
     },
     "execution_count": 81,
     "metadata": {},
     "output_type": "execute_result"
    }
   ],
   "source": [
    "# chamando a função para sexta-feira à tarde em Shelbyville\n",
    "genre_weekday(shel_general, 'Friday', '17:00', '21:00')"
   ]
  },
  {
   "cell_type": "markdown",
   "metadata": {
    "id": "wrCe4MNX_Zcu"
   },
   "source": [
    "**Conclusão**\n",
    "\n",
    "Tendo comparado os 15 gêneros mais ouvidos na segunda-feira de manhã, nós podemos tirar as seguintes conclusões:\n",
    "\n",
    "1. Usuários de Springfield e Shelbyville escutam músicas semelhantes. Os cinco gêneros mais ouvidos são os mesmos, apenas rock e música eletrônica trocaram de lugar.\n",
    "\n",
    "2. Em Springfield, a quantidade de valores ausentes acabaram por serem tantos que o valor `'unknown'` veio em 10º. Isso significa que valores ausentes tiveram uma considerável porção dos dados, que pode ser a base para questionamentos a confiabilidade das conclusões.\n",
    "\n",
    "Para sexta-feira à tarde, a situação é parecida. Gêneros individuais variam um pouco, mas no todo, os 15 gêneros mais ouvidos são parecidos para as duas cidades.\n",
    "\n",
    "Assim, a segunda hipótese foi parcialmente provada:\n",
    "* Usuários escutam gêneros musicais parecidos no começo e no fim da semana.\n",
    "* Não há grande diferença entre Springfield e Shelbyville. Nas duas cidades, pop é o gênero mais popular.\n",
    "\n",
    "No entanto, o número de valores ausentes faz esse resultado ser questionável. Em Springfield, há tantos que eles afetaram o top 15. Se não nos faltassem esses valores, as coisas poderiam ser diferentes."
   ]
  },
  {
   "cell_type": "markdown",
   "metadata": {
    "id": "jLmXgdanVyhP"
   },
   "source": [
    "[Voltar ao Índice](#back)"
   ]
  },
  {
   "cell_type": "markdown",
   "metadata": {
    "id": "JolODAqr_Zcu"
   },
   "source": [
    "### Hipótese 3: preferências em Springfield e Shelbyville <a id='genre'></a>\n",
    "\n",
    "Hipótese: Shelbyville ama rap. Cidadãos de Springfield curtem mais pop."
   ]
  },
  {
   "cell_type": "markdown",
   "metadata": {
    "id": "DlegSvaT_Zcu"
   },
   "source": [
    "Agrupe a tabela `spr_general` por gênero e encontre o número de músicas tocadas para cada gênero com o método `count()`. Depois organize o resultado em ordem decrescente e armazene-o em `spr_genres`."
   ]
  },
  {
   "cell_type": "code",
   "execution_count": 82,
   "metadata": {
    "id": "r19lIPke_Zcu"
   },
   "outputs": [],
   "source": [
    "# em uma linha: agrupe a tabela spr_general pela coluna 'genre', \n",
    "# conte os valores de 'genre' com count() no agrupamento, \n",
    "# organize o o objeto Series resultante em ordem decrescente, e armazene-o em spr_genres\n",
    "spr_genres = spr_general.groupby('genre')['user_id'].count()\n",
    "\n",
    "spr_genres = spr_genres.sort_values(ascending=False)"
   ]
  },
  {
   "cell_type": "markdown",
   "metadata": {
    "id": "6kMuomxTiIr8"
   },
   "source": [
    "Exiba as primeiras 10 linhas de `spr_genres`:"
   ]
  },
  {
   "cell_type": "code",
   "execution_count": 83,
   "metadata": {
    "id": "WhCSooF8_Zcv"
   },
   "outputs": [
    {
     "name": "stdout",
     "output_type": "stream",
     "text": [
      "genre\n",
      "\n",
      "pop            5892\n",
      "\n",
      "dance          4435\n",
      "\n",
      "rock           3965\n",
      "\n",
      "electronic     3786\n",
      "\n",
      "hiphop         2096\n",
      "\n",
      "classical      1616\n",
      "\n",
      "world          1432\n",
      "\n",
      "alternative    1379\n",
      "\n",
      "ruspop         1372\n",
      "\n",
      "rusrap         1161\n",
      "\n",
      "Name: user_id, dtype: int64\n"
     ]
    }
   ],
   "source": [
    "# exibindo as primeiras 10 linhas de spr_genres\n",
    "print(spr_genres.head(10))"
   ]
  },
  {
   "cell_type": "markdown",
   "metadata": {
    "id": "cnPG2vnN_Zcv"
   },
   "source": [
    "Agora faça o mesmo com os dados de Shelbyville.\n",
    "\n",
    "Agrupe a tabela `shel_general` por gênero e encontre o número de músicas tocadas de cada gênero. Depois organize o resultado em ordem decrescente e armazene-o na tabela `shel_genres`:\n"
   ]
  },
  {
   "cell_type": "code",
   "execution_count": 84,
   "metadata": {
    "id": "gluLIpE7_Zcv"
   },
   "outputs": [],
   "source": [
    "# na linha um: agrupe a tabela shel_general pela coluna 'genre', \n",
    "# conte os valores 'genre' no agrupamento com count(), \n",
    "# organize a o objeto Series resultante em ordem decrescente e armazene-o em shel_genres\n",
    "shel_genres = shel_general.groupby('genre')['user_id'].count()\n",
    "\n",
    "shel_genres = shel_genres.sort_values(ascending=False)"
   ]
  },
  {
   "cell_type": "markdown",
   "metadata": {
    "id": "5Doha_ODgyQ8"
   },
   "source": [
    "Exiba as 10 primeiras linhas de `shel_genres`:"
   ]
  },
  {
   "cell_type": "code",
   "execution_count": 85,
   "metadata": {
    "id": "uaGJHjVU_Zcv"
   },
   "outputs": [
    {
     "name": "stdout",
     "output_type": "stream",
     "text": [
      "genre\n",
      "\n",
      "pop            2431\n",
      "\n",
      "dance          1932\n",
      "\n",
      "rock           1879\n",
      "\n",
      "electronic     1736\n",
      "\n",
      "hiphop          960\n",
      "\n",
      "alternative     649\n",
      "\n",
      "classical       646\n",
      "\n",
      "rusrap          564\n",
      "\n",
      "ruspop          538\n",
      "\n",
      "world           515\n",
      "\n",
      "Name: user_id, dtype: int64\n"
     ]
    }
   ],
   "source": [
    "# exibindo as 10 primeiras linhas de shel_genres\n",
    "print(shel_genres.head(10))"
   ]
  },
  {
   "cell_type": "markdown",
   "metadata": {
    "id": "RY51YJYu_Zcv"
   },
   "source": [
    "**Conclusão**"
   ]
  },
  {
   "cell_type": "markdown",
   "metadata": {
    "id": "nVhnJEm__Zcv"
   },
   "source": [
    "A hipótese foi parcialmente provada:\n",
    "* Música pop é o gênero mais em Springfield, como esperado.\n",
    "* Entretanto, música pop acabou por ser igualmente popular em Springfield e Shelbyville, e rap não estava no top 5 em nenhuma cidade.\n"
   ]
  },
  {
   "cell_type": "markdown",
   "metadata": {
    "id": "Byr0RfpPVz14"
   },
   "source": [
    "[Voltar ao Índice](#back)"
   ]
  },
  {
   "cell_type": "markdown",
   "metadata": {
    "id": "ykKQ0N65_Zcv"
   },
   "source": [
    "# Conclusões <a id='end'></a>"
   ]
  },
  {
   "cell_type": "markdown",
   "metadata": {
    "id": "tjUwbHb3_Zcv"
   },
   "source": [
    "Nós testamos as três hipóteses seguintes:\n",
    "\n",
    "1. A atividade do usuário varia dependendo do dia da semana e da cidade. \n",
    "2. Nas segundas-feiras de manhã, os habitantes de Springfield e Shelbyville escutam diferentes gêneros. Isso também é verdadeiro para noites de sexta-feira. \n",
    "3. Ouvintes de Springfield e Shelbyville têm preferências diferentes. Tanto em Springfield como Shellbyville, eles preferem pop.\n",
    "\n",
    "Depois de analisar os dados, nós concluímos:\n",
    "\n",
    "1. A atividade do usuário em Springfield e Shelbyville depende do dia da semana, embora as cidades variam de formas diferentes. \n",
    "\n",
    "A primeira hipótese é totalmente aceita.\n",
    "\n",
    "2. As preferências musicais não variam significativamente ao decorrer da semana tanto em Springfield como em Shelbyville. Nós podemos ver pequenas diferenças na ordem nas segundas-feiras, mas:\n",
    "* Em Springfield e Shelbyville, as pessoas escutam mais música pop.\n",
    "\n",
    "Então nós podemos aceitar essa hipótese. Nós devemos também ter em mente que o resultado pode ter sido diferente se não fosse pelos valores ausentes.\n",
    "\n",
    "3. Acontece que preferências musicais dos usuários de Springfield e Shelbyville são bastante parecidas.\n",
    "\n",
    "A terceira hipótese foi rejeitada. Se há alguma diferença nas preferências, ela não pode ser vista nesses dados.\n",
    "\n",
    "### Observação \n",
    "Em projetos reais, pesquisas envolvendo teste estatístico de hipóteses, que é mais preciso e mais quantitativo. Também perceba que você não pode sempre tirar conclusões sobre uma cidade inteira com base em dados de apenas uma fonte.\n",
    "\n",
    "Você vai estudar teste de hipóteses no sprint sobre análise estatística de dados."
   ]
  },
  {
   "cell_type": "markdown",
   "metadata": {
    "id": "Ju4AHDSgV1FE"
   },
   "source": [
    "[Voltar ao Índice](#back)"
   ]
  }
 ],
 "metadata": {
  "ExecuteTimeLog": [
   {
    "duration": 50,
    "start_time": "2022-08-21T15:26:50.368Z"
   },
   {
    "duration": 6,
    "start_time": "2022-08-21T15:27:03.375Z"
   },
   {
    "duration": 349,
    "start_time": "2022-08-21T15:27:17.381Z"
   },
   {
    "duration": 341,
    "start_time": "2022-08-21T15:29:14.256Z"
   },
   {
    "duration": 6,
    "start_time": "2022-08-21T15:30:48.754Z"
   },
   {
    "duration": 5,
    "start_time": "2022-08-21T15:30:58.534Z"
   },
   {
    "duration": 7,
    "start_time": "2022-08-21T15:31:03.628Z"
   },
   {
    "duration": 25,
    "start_time": "2022-08-21T15:32:48.523Z"
   },
   {
    "duration": 3,
    "start_time": "2022-08-21T15:52:20.827Z"
   },
   {
    "duration": 82,
    "start_time": "2022-08-21T15:54:59.424Z"
   },
   {
    "duration": 13,
    "start_time": "2022-08-21T15:56:21.092Z"
   },
   {
    "duration": 11,
    "start_time": "2022-08-21T15:56:45.341Z"
   },
   {
    "duration": 3,
    "start_time": "2022-08-21T15:56:48.895Z"
   },
   {
    "duration": 19,
    "start_time": "2022-08-21T15:58:51.481Z"
   },
   {
    "duration": 29,
    "start_time": "2022-08-21T16:09:42.184Z"
   },
   {
    "duration": 8,
    "start_time": "2022-08-21T16:10:26.351Z"
   },
   {
    "duration": 33,
    "start_time": "2022-08-21T16:11:37.117Z"
   },
   {
    "duration": 19,
    "start_time": "2022-08-21T16:12:19.617Z"
   },
   {
    "duration": 62,
    "start_time": "2022-08-21T16:12:56.905Z"
   },
   {
    "duration": 60,
    "start_time": "2022-08-21T16:13:18.086Z"
   },
   {
    "duration": 56,
    "start_time": "2022-08-21T16:13:23.663Z"
   },
   {
    "duration": 65,
    "start_time": "2022-08-21T16:18:30.911Z"
   },
   {
    "duration": 53,
    "start_time": "2022-08-21T16:18:57.306Z"
   },
   {
    "duration": 7,
    "start_time": "2022-08-21T16:21:19.382Z"
   },
   {
    "duration": 7,
    "start_time": "2022-08-21T17:33:33.989Z"
   },
   {
    "duration": 8,
    "start_time": "2022-08-21T18:05:43.346Z"
   },
   {
    "duration": 8,
    "start_time": "2022-08-21T18:06:35.621Z"
   },
   {
    "duration": 8,
    "start_time": "2022-08-21T18:10:07.415Z"
   },
   {
    "duration": 13,
    "start_time": "2022-08-21T18:20:07.661Z"
   },
   {
    "duration": 3,
    "start_time": "2022-08-21T18:20:45.020Z"
   },
   {
    "duration": 12,
    "start_time": "2022-08-21T18:20:57.416Z"
   },
   {
    "duration": 9,
    "start_time": "2022-08-21T18:21:06.024Z"
   },
   {
    "duration": 8,
    "start_time": "2022-08-21T18:21:25.136Z"
   },
   {
    "duration": 4,
    "start_time": "2022-08-21T18:21:45.714Z"
   },
   {
    "duration": 7,
    "start_time": "2022-08-21T18:22:47.217Z"
   },
   {
    "duration": 42,
    "start_time": "2022-08-22T22:40:02.748Z"
   },
   {
    "duration": 6,
    "start_time": "2022-08-22T22:40:18.770Z"
   },
   {
    "duration": 358,
    "start_time": "2022-08-22T22:40:32.031Z"
   },
   {
    "duration": 353,
    "start_time": "2022-08-22T22:40:35.627Z"
   },
   {
    "duration": 7,
    "start_time": "2022-08-22T22:40:39.536Z"
   },
   {
    "duration": 28,
    "start_time": "2022-08-22T22:40:42.807Z"
   },
   {
    "duration": 3,
    "start_time": "2022-08-22T22:40:48.747Z"
   },
   {
    "duration": 16,
    "start_time": "2022-08-22T22:40:51.561Z"
   },
   {
    "duration": 3,
    "start_time": "2022-08-22T22:40:54.148Z"
   },
   {
    "duration": 20,
    "start_time": "2022-08-22T22:40:57.414Z"
   },
   {
    "duration": 40,
    "start_time": "2022-08-22T22:41:00.851Z"
   },
   {
    "duration": 20,
    "start_time": "2022-08-22T22:41:04.951Z"
   },
   {
    "duration": 63,
    "start_time": "2022-08-22T22:41:07.989Z"
   },
   {
    "duration": 84,
    "start_time": "2022-08-22T22:41:10.277Z"
   },
   {
    "duration": 55,
    "start_time": "2022-08-22T22:41:12.882Z"
   },
   {
    "duration": 7,
    "start_time": "2022-08-22T22:41:15.475Z"
   },
   {
    "duration": 3,
    "start_time": "2022-08-22T22:41:21.140Z"
   },
   {
    "duration": 9,
    "start_time": "2022-08-22T22:41:24.283Z"
   },
   {
    "duration": 6,
    "start_time": "2022-08-22T22:41:26.866Z"
   },
   {
    "duration": 35,
    "start_time": "2022-08-22T22:41:32.986Z"
   },
   {
    "duration": 3837,
    "start_time": "2022-08-22T22:44:19.549Z"
   },
   {
    "duration": 45,
    "start_time": "2022-08-22T22:49:31.492Z"
   },
   {
    "duration": 29,
    "start_time": "2022-08-22T22:51:47.426Z"
   },
   {
    "duration": 28,
    "start_time": "2022-08-22T23:13:39.979Z"
   },
   {
    "duration": 25,
    "start_time": "2022-08-22T23:14:00.537Z"
   },
   {
    "duration": 122,
    "start_time": "2022-08-22T23:16:09.792Z"
   },
   {
    "duration": 26,
    "start_time": "2022-08-22T23:16:17.324Z"
   },
   {
    "duration": 26,
    "start_time": "2022-08-22T23:18:43.067Z"
   },
   {
    "duration": 37,
    "start_time": "2022-08-22T23:19:34.416Z"
   },
   {
    "duration": 67,
    "start_time": "2022-08-22T23:20:33.552Z"
   },
   {
    "duration": 64,
    "start_time": "2022-08-22T23:23:36.584Z"
   },
   {
    "duration": 19,
    "start_time": "2022-08-22T23:25:35.071Z"
   },
   {
    "duration": 65,
    "start_time": "2022-08-22T23:27:36.846Z"
   },
   {
    "duration": 72,
    "start_time": "2022-08-22T23:58:01.809Z"
   },
   {
    "duration": 65,
    "start_time": "2022-08-22T23:58:15.494Z"
   },
   {
    "duration": 40,
    "start_time": "2022-08-23T00:00:39.836Z"
   },
   {
    "duration": 64,
    "start_time": "2022-08-23T00:01:05.683Z"
   },
   {
    "duration": 1724,
    "start_time": "2022-08-23T00:01:44.300Z"
   },
   {
    "duration": 2532,
    "start_time": "2022-08-23T00:02:03.337Z"
   },
   {
    "duration": 68,
    "start_time": "2022-08-23T00:02:20.315Z"
   },
   {
    "duration": 63,
    "start_time": "2022-08-23T00:04:08.424Z"
   },
   {
    "duration": 1463,
    "start_time": "2022-08-23T00:04:43.918Z"
   },
   {
    "duration": 97,
    "start_time": "2022-08-23T00:05:14.158Z"
   },
   {
    "duration": 65,
    "start_time": "2022-08-23T00:05:28.588Z"
   },
   {
    "duration": 1534,
    "start_time": "2022-08-23T00:05:42.805Z"
   },
   {
    "duration": 59,
    "start_time": "2022-08-23T00:10:32.500Z"
   },
   {
    "duration": 61,
    "start_time": "2022-08-23T00:10:46.850Z"
   },
   {
    "duration": 35,
    "start_time": "2022-08-23T00:10:50.268Z"
   },
   {
    "duration": 58,
    "start_time": "2022-08-23T00:10:54.016Z"
   },
   {
    "duration": 38,
    "start_time": "2022-08-23T00:10:59.090Z"
   },
   {
    "duration": 8,
    "start_time": "2022-08-23T00:14:02.811Z"
   },
   {
    "duration": 363,
    "start_time": "2022-08-29T22:40:08.405Z"
   },
   {
    "duration": 331,
    "start_time": "2022-08-29T22:40:12.521Z"
   },
   {
    "duration": 8,
    "start_time": "2022-08-29T22:40:16.841Z"
   },
   {
    "duration": 37,
    "start_time": "2022-08-29T22:40:21.024Z"
   },
   {
    "duration": 4,
    "start_time": "2022-08-29T22:41:25.704Z"
   },
   {
    "duration": 16,
    "start_time": "2022-08-29T22:41:29.137Z"
   },
   {
    "duration": 4,
    "start_time": "2022-08-29T22:41:35.370Z"
   },
   {
    "duration": 21,
    "start_time": "2022-08-29T22:41:39.077Z"
   },
   {
    "duration": 34,
    "start_time": "2022-08-29T22:41:44.974Z"
   },
   {
    "duration": 22,
    "start_time": "2022-08-29T22:41:50.214Z"
   },
   {
    "duration": 54,
    "start_time": "2022-08-29T22:41:53.480Z"
   },
   {
    "duration": 67,
    "start_time": "2022-08-29T22:41:56.034Z"
   },
   {
    "duration": 50,
    "start_time": "2022-08-29T22:41:58.413Z"
   },
   {
    "duration": 3,
    "start_time": "2022-08-29T22:42:07.118Z"
   },
   {
    "duration": 12,
    "start_time": "2022-08-29T22:42:09.778Z"
   },
   {
    "duration": 7,
    "start_time": "2022-08-29T22:42:12.452Z"
   },
   {
    "duration": 27,
    "start_time": "2022-08-29T22:42:17.333Z"
   },
   {
    "duration": 28,
    "start_time": "2022-08-29T22:42:21.849Z"
   },
   {
    "duration": 17,
    "start_time": "2022-08-29T22:42:26.092Z"
   },
   {
    "duration": 16,
    "start_time": "2022-08-29T22:43:31.975Z"
   },
   {
    "duration": 13,
    "start_time": "2022-08-29T22:43:53.723Z"
   },
   {
    "duration": 14,
    "start_time": "2022-08-29T22:43:57.056Z"
   },
   {
    "duration": 12,
    "start_time": "2022-08-29T22:43:59.982Z"
   },
   {
    "duration": 15,
    "start_time": "2022-08-29T22:44:02.255Z"
   },
   {
    "duration": 14,
    "start_time": "2022-08-29T22:44:04.335Z"
   },
   {
    "duration": 55,
    "start_time": "2022-08-29T22:44:33.442Z"
   },
   {
    "duration": 7,
    "start_time": "2022-08-29T22:45:47.570Z"
   },
   {
    "duration": 80,
    "start_time": "2022-08-29T22:49:43.918Z"
   },
   {
    "duration": 10,
    "start_time": "2022-08-29T22:49:57.597Z"
   },
   {
    "duration": 9,
    "start_time": "2022-08-29T22:50:36.745Z"
   },
   {
    "duration": 8,
    "start_time": "2022-08-29T23:00:10.281Z"
   },
   {
    "duration": 7,
    "start_time": "2022-08-29T23:00:23.307Z"
   },
   {
    "duration": 8,
    "start_time": "2022-08-29T23:02:25.817Z"
   },
   {
    "duration": 14,
    "start_time": "2022-08-29T23:04:54.817Z"
   },
   {
    "duration": 137,
    "start_time": "2022-08-29T23:05:04.473Z"
   },
   {
    "duration": 9,
    "start_time": "2022-08-29T23:05:11.674Z"
   },
   {
    "duration": 4,
    "start_time": "2022-08-29T23:05:32.113Z"
   },
   {
    "duration": 4,
    "start_time": "2022-08-29T23:05:38.379Z"
   },
   {
    "duration": 16,
    "start_time": "2022-08-29T23:05:55.066Z"
   },
   {
    "duration": 13,
    "start_time": "2022-08-29T23:06:06.320Z"
   },
   {
    "duration": 19,
    "start_time": "2022-08-29T23:06:14.395Z"
   },
   {
    "duration": 12,
    "start_time": "2022-08-29T23:06:24.723Z"
   },
   {
    "duration": 4,
    "start_time": "2022-08-29T23:07:10.161Z"
   },
   {
    "duration": 16,
    "start_time": "2022-08-29T23:07:13.581Z"
   },
   {
    "duration": 5,
    "start_time": "2022-08-29T23:07:45.982Z"
   },
   {
    "duration": 23,
    "start_time": "2022-08-29T23:07:49.163Z"
   },
   {
    "duration": 15,
    "start_time": "2022-08-29T23:07:52.956Z"
   },
   {
    "duration": 24,
    "start_time": "2022-08-29T23:07:56.318Z"
   },
   {
    "duration": 14,
    "start_time": "2022-08-29T23:07:59.422Z"
   },
   {
    "duration": 21,
    "start_time": "2022-08-29T23:08:21.252Z"
   },
   {
    "duration": 5,
    "start_time": "2022-08-29T23:08:32.551Z"
   },
   {
    "duration": 7,
    "start_time": "2022-08-29T23:08:45.638Z"
   },
   {
    "duration": 13,
    "start_time": "2022-08-29T23:11:03.827Z"
   },
   {
    "duration": 5,
    "start_time": "2022-08-29T23:11:16.277Z"
   },
   {
    "duration": 18,
    "start_time": "2022-08-29T23:12:54.642Z"
   },
   {
    "duration": 22,
    "start_time": "2022-08-29T23:13:05.890Z"
   },
   {
    "duration": 7,
    "start_time": "2022-08-29T23:14:30.328Z"
   },
   {
    "duration": 7,
    "start_time": "2022-08-29T23:20:44.106Z"
   },
   {
    "duration": 18,
    "start_time": "2022-08-29T23:21:29.375Z"
   },
   {
    "duration": 24,
    "start_time": "2022-08-30T00:21:25.471Z"
   },
   {
    "duration": 35,
    "start_time": "2022-08-30T00:21:30.589Z"
   },
   {
    "duration": 23,
    "start_time": "2022-08-30T00:21:32.570Z"
   },
   {
    "duration": 20,
    "start_time": "2022-08-30T00:21:33.474Z"
   },
   {
    "duration": 23,
    "start_time": "2022-08-30T00:21:34.547Z"
   },
   {
    "duration": 27,
    "start_time": "2022-08-30T00:21:36.007Z"
   },
   {
    "duration": 22,
    "start_time": "2022-08-30T00:21:37.090Z"
   },
   {
    "duration": 8,
    "start_time": "2022-08-30T00:21:56.630Z"
   },
   {
    "duration": 23,
    "start_time": "2022-08-30T00:22:18.886Z"
   },
   {
    "duration": 21,
    "start_time": "2022-08-30T00:22:19.406Z"
   },
   {
    "duration": 21,
    "start_time": "2022-08-30T00:22:19.934Z"
   },
   {
    "duration": 21,
    "start_time": "2022-08-30T00:22:21.088Z"
   },
   {
    "duration": 30,
    "start_time": "2022-08-30T00:22:24.411Z"
   },
   {
    "duration": 24,
    "start_time": "2022-08-30T00:22:25.370Z"
   },
   {
    "duration": 7,
    "start_time": "2022-08-30T00:22:28.470Z"
   },
   {
    "duration": 26,
    "start_time": "2022-08-30T00:24:32.751Z"
   },
   {
    "duration": 27,
    "start_time": "2022-08-30T00:24:34.470Z"
   },
   {
    "duration": 21,
    "start_time": "2022-08-30T00:24:34.960Z"
   },
   {
    "duration": 24,
    "start_time": "2022-08-30T00:24:35.359Z"
   },
   {
    "duration": 24,
    "start_time": "2022-08-30T00:24:36.051Z"
   },
   {
    "duration": 22,
    "start_time": "2022-08-30T00:24:37.812Z"
   },
   {
    "duration": 14,
    "start_time": "2022-08-30T00:25:44.033Z"
   },
   {
    "duration": 23,
    "start_time": "2022-08-30T00:25:53.813Z"
   },
   {
    "duration": 22,
    "start_time": "2022-08-30T00:25:56.229Z"
   },
   {
    "duration": 21,
    "start_time": "2022-08-30T00:25:57.122Z"
   },
   {
    "duration": 19,
    "start_time": "2022-08-30T00:25:57.979Z"
   },
   {
    "duration": 23,
    "start_time": "2022-08-30T00:26:03.246Z"
   },
   {
    "duration": 21,
    "start_time": "2022-08-30T00:26:03.844Z"
   },
   {
    "duration": 24,
    "start_time": "2022-08-30T00:26:04.448Z"
   },
   {
    "duration": 20,
    "start_time": "2022-08-30T00:26:06.147Z"
   },
   {
    "duration": 23,
    "start_time": "2022-08-30T00:26:07.919Z"
   },
   {
    "duration": 21,
    "start_time": "2022-08-30T00:26:08.514Z"
   },
   {
    "duration": 12,
    "start_time": "2022-08-30T00:26:12.214Z"
   },
   {
    "duration": 13,
    "start_time": "2022-08-30T00:27:07.981Z"
   },
   {
    "duration": 7,
    "start_time": "2022-08-30T00:31:37.806Z"
   },
   {
    "duration": 8,
    "start_time": "2022-08-30T00:31:46.473Z"
   },
   {
    "duration": 8,
    "start_time": "2022-08-30T00:32:12.555Z"
   },
   {
    "duration": 426,
    "start_time": "2022-08-30T01:03:53.275Z"
   },
   {
    "duration": 305,
    "start_time": "2022-08-30T01:03:53.703Z"
   },
   {
    "duration": 7,
    "start_time": "2022-08-30T01:03:54.009Z"
   },
   {
    "duration": 28,
    "start_time": "2022-08-30T01:03:54.017Z"
   },
   {
    "duration": 2,
    "start_time": "2022-08-30T01:03:54.047Z"
   },
   {
    "duration": 14,
    "start_time": "2022-08-30T01:03:54.050Z"
   },
   {
    "duration": 5,
    "start_time": "2022-08-30T01:03:54.066Z"
   },
   {
    "duration": 19,
    "start_time": "2022-08-30T01:03:54.085Z"
   },
   {
    "duration": 44,
    "start_time": "2022-08-30T01:03:54.106Z"
   },
   {
    "duration": 33,
    "start_time": "2022-08-30T01:03:54.155Z"
   },
   {
    "duration": 59,
    "start_time": "2022-08-30T01:03:54.190Z"
   },
   {
    "duration": 78,
    "start_time": "2022-08-30T01:03:54.251Z"
   },
   {
    "duration": 58,
    "start_time": "2022-08-30T01:03:54.331Z"
   },
   {
    "duration": 7,
    "start_time": "2022-08-30T01:03:54.391Z"
   },
   {
    "duration": 15,
    "start_time": "2022-08-30T01:03:54.400Z"
   },
   {
    "duration": 15,
    "start_time": "2022-08-30T01:03:54.417Z"
   },
   {
    "duration": 10,
    "start_time": "2022-08-30T01:03:54.434Z"
   },
   {
    "duration": 43,
    "start_time": "2022-08-30T01:03:54.446Z"
   },
   {
    "duration": 35,
    "start_time": "2022-08-30T01:03:54.490Z"
   },
   {
    "duration": 20,
    "start_time": "2022-08-30T01:03:54.527Z"
   },
   {
    "duration": 49,
    "start_time": "2022-08-30T01:03:54.549Z"
   },
   {
    "duration": 22,
    "start_time": "2022-08-30T01:03:54.599Z"
   },
   {
    "duration": 20,
    "start_time": "2022-08-30T01:03:54.622Z"
   },
   {
    "duration": 18,
    "start_time": "2022-08-30T01:03:54.643Z"
   },
   {
    "duration": 40,
    "start_time": "2022-08-30T01:03:54.662Z"
   },
   {
    "duration": 19,
    "start_time": "2022-08-30T01:03:54.703Z"
   },
   {
    "duration": 7,
    "start_time": "2022-08-30T01:03:54.724Z"
   },
   {
    "duration": 14,
    "start_time": "2022-08-30T01:03:54.734Z"
   },
   {
    "duration": 9,
    "start_time": "2022-08-30T01:03:54.749Z"
   },
   {
    "duration": 27,
    "start_time": "2022-08-30T01:03:54.759Z"
   },
   {
    "duration": 27,
    "start_time": "2022-08-30T01:03:54.787Z"
   },
   {
    "duration": 15,
    "start_time": "2022-08-30T01:03:54.815Z"
   },
   {
    "duration": 19,
    "start_time": "2022-08-30T01:03:54.831Z"
   },
   {
    "duration": 33,
    "start_time": "2022-08-30T01:03:54.851Z"
   },
   {
    "duration": 27,
    "start_time": "2022-08-30T01:03:54.885Z"
   },
   {
    "duration": 5,
    "start_time": "2022-08-30T01:03:54.913Z"
   },
   {
    "duration": 16,
    "start_time": "2022-08-30T01:03:54.919Z"
   },
   {
    "duration": 4,
    "start_time": "2022-08-30T01:03:54.936Z"
   },
   {
    "duration": 81,
    "start_time": "2022-08-30T01:04:20.756Z"
   },
   {
    "duration": 25,
    "start_time": "2022-08-30T01:10:26.440Z"
   },
   {
    "duration": 3,
    "start_time": "2022-08-30T01:10:53.396Z"
   },
   {
    "duration": 269,
    "start_time": "2022-08-30T01:10:53.402Z"
   },
   {
    "duration": 5,
    "start_time": "2022-08-30T01:10:53.673Z"
   },
   {
    "duration": 23,
    "start_time": "2022-08-30T01:10:53.685Z"
   },
   {
    "duration": 2,
    "start_time": "2022-08-30T01:10:53.710Z"
   },
   {
    "duration": 9,
    "start_time": "2022-08-30T01:10:53.714Z"
   },
   {
    "duration": 3,
    "start_time": "2022-08-30T01:10:53.724Z"
   },
   {
    "duration": 21,
    "start_time": "2022-08-30T01:10:53.729Z"
   },
   {
    "duration": 65,
    "start_time": "2022-08-30T01:10:53.751Z"
   },
   {
    "duration": 18,
    "start_time": "2022-08-30T01:10:53.817Z"
   },
   {
    "duration": 66,
    "start_time": "2022-08-30T01:10:53.838Z"
   },
   {
    "duration": 53,
    "start_time": "2022-08-30T01:10:53.906Z"
   },
   {
    "duration": 61,
    "start_time": "2022-08-30T01:10:53.961Z"
   },
   {
    "duration": 7,
    "start_time": "2022-08-30T01:10:54.024Z"
   },
   {
    "duration": 4,
    "start_time": "2022-08-30T01:10:54.032Z"
   },
   {
    "duration": 12,
    "start_time": "2022-08-30T01:10:54.037Z"
   },
   {
    "duration": 7,
    "start_time": "2022-08-30T01:10:54.051Z"
   },
   {
    "duration": 56,
    "start_time": "2022-08-30T01:10:54.060Z"
   },
   {
    "duration": 29,
    "start_time": "2022-08-30T01:10:54.118Z"
   },
   {
    "duration": 36,
    "start_time": "2022-08-30T01:10:54.149Z"
   },
   {
    "duration": 23,
    "start_time": "2022-08-30T01:10:54.187Z"
   },
   {
    "duration": 18,
    "start_time": "2022-08-30T01:10:54.211Z"
   },
   {
    "duration": 18,
    "start_time": "2022-08-30T01:10:54.231Z"
   },
   {
    "duration": 35,
    "start_time": "2022-08-30T01:10:54.250Z"
   },
   {
    "duration": 23,
    "start_time": "2022-08-30T01:10:54.286Z"
   },
   {
    "duration": 19,
    "start_time": "2022-08-30T01:10:54.310Z"
   },
   {
    "duration": 7,
    "start_time": "2022-08-30T01:10:54.331Z"
   },
   {
    "duration": 17,
    "start_time": "2022-08-30T01:10:54.340Z"
   },
   {
    "duration": 35,
    "start_time": "2022-08-30T01:10:54.360Z"
   },
   {
    "duration": 14,
    "start_time": "2022-08-30T01:10:54.397Z"
   },
   {
    "duration": 49,
    "start_time": "2022-08-30T01:10:54.413Z"
   },
   {
    "duration": 28,
    "start_time": "2022-08-30T01:10:54.464Z"
   },
   {
    "duration": 28,
    "start_time": "2022-08-30T01:10:54.494Z"
   },
   {
    "duration": 16,
    "start_time": "2022-08-30T01:10:54.524Z"
   },
   {
    "duration": 21,
    "start_time": "2022-08-30T01:10:54.542Z"
   },
   {
    "duration": 20,
    "start_time": "2022-08-30T01:10:54.564Z"
   },
   {
    "duration": 35,
    "start_time": "2022-08-30T01:10:54.586Z"
   },
   {
    "duration": 4,
    "start_time": "2022-08-30T01:10:54.623Z"
   },
   {
    "duration": 94,
    "start_time": "2022-08-30T01:20:04.994Z"
   },
   {
    "duration": 4,
    "start_time": "2022-08-30T01:20:09.359Z"
   },
   {
    "duration": 68,
    "start_time": "2022-08-30T01:20:11.449Z"
   },
   {
    "duration": 4,
    "start_time": "2022-08-30T01:20:31.202Z"
   },
   {
    "duration": 17,
    "start_time": "2022-08-30T01:20:33.158Z"
   },
   {
    "duration": 13,
    "start_time": "2022-08-30T01:20:54.091Z"
   },
   {
    "duration": 54,
    "start_time": "2022-08-31T22:13:42.764Z"
   },
   {
    "duration": 5,
    "start_time": "2022-08-31T22:13:51.173Z"
   },
   {
    "duration": 412,
    "start_time": "2022-08-31T22:14:00.711Z"
   },
   {
    "duration": 326,
    "start_time": "2022-08-31T22:14:04.046Z"
   },
   {
    "duration": 14,
    "start_time": "2022-08-31T22:14:07.894Z"
   },
   {
    "duration": 31,
    "start_time": "2022-08-31T22:14:10.973Z"
   },
   {
    "duration": 3,
    "start_time": "2022-08-31T22:14:25.831Z"
   },
   {
    "duration": 4,
    "start_time": "2022-08-31T22:14:30.723Z"
   },
   {
    "duration": 12,
    "start_time": "2022-08-31T22:14:40.049Z"
   },
   {
    "duration": 3,
    "start_time": "2022-08-31T22:14:47.023Z"
   },
   {
    "duration": 3,
    "start_time": "2022-08-31T22:14:53.913Z"
   },
   {
    "duration": 34,
    "start_time": "2022-08-31T22:20:37.495Z"
   },
   {
    "duration": 27,
    "start_time": "2022-08-31T22:21:05.267Z"
   },
   {
    "duration": 707,
    "start_time": "2022-08-31T22:22:14.276Z"
   },
   {
    "duration": 28,
    "start_time": "2022-08-31T22:22:25.298Z"
   },
   {
    "duration": 26,
    "start_time": "2022-08-31T22:23:34.335Z"
   },
   {
    "duration": 25,
    "start_time": "2022-08-31T22:25:38.553Z"
   },
   {
    "duration": 7,
    "start_time": "2022-08-31T22:26:33.479Z"
   },
   {
    "duration": 36,
    "start_time": "2022-08-31T22:26:43.936Z"
   },
   {
    "duration": 34,
    "start_time": "2022-08-31T22:28:00.526Z"
   },
   {
    "duration": 17,
    "start_time": "2022-08-31T22:28:10.989Z"
   },
   {
    "duration": 9,
    "start_time": "2022-08-31T22:30:30.489Z"
   },
   {
    "duration": 9,
    "start_time": "2022-08-31T22:30:46.575Z"
   },
   {
    "duration": 9,
    "start_time": "2022-08-31T22:31:15.775Z"
   },
   {
    "duration": 8,
    "start_time": "2022-08-31T22:32:55.850Z"
   },
   {
    "duration": 8,
    "start_time": "2022-08-31T22:33:07.594Z"
   },
   {
    "duration": 8,
    "start_time": "2022-08-31T22:36:04.752Z"
   },
   {
    "duration": 5,
    "start_time": "2022-08-31T22:36:17.280Z"
   },
   {
    "duration": 8,
    "start_time": "2022-08-31T22:36:23.265Z"
   },
   {
    "duration": 6,
    "start_time": "2022-08-31T22:36:34.133Z"
   },
   {
    "duration": 8,
    "start_time": "2022-08-31T22:36:42.896Z"
   },
   {
    "duration": 269,
    "start_time": "2022-08-31T22:36:45.614Z"
   },
   {
    "duration": 6,
    "start_time": "2022-08-31T22:36:51.212Z"
   },
   {
    "duration": 32,
    "start_time": "2022-08-31T22:36:53.695Z"
   },
   {
    "duration": 3,
    "start_time": "2022-08-31T22:36:59.729Z"
   },
   {
    "duration": 7,
    "start_time": "2022-08-31T22:37:04.539Z"
   },
   {
    "duration": 7,
    "start_time": "2022-08-31T22:37:07.619Z"
   },
   {
    "duration": 3,
    "start_time": "2022-08-31T22:37:13.232Z"
   },
   {
    "duration": 17,
    "start_time": "2022-08-31T22:37:17.410Z"
   },
   {
    "duration": 26,
    "start_time": "2022-08-31T22:37:22.868Z"
   },
   {
    "duration": 42,
    "start_time": "2022-08-31T22:37:52.481Z"
   },
   {
    "duration": 49,
    "start_time": "2022-08-31T22:38:15.648Z"
   },
   {
    "duration": 19,
    "start_time": "2022-08-31T22:38:22.827Z"
   },
   {
    "duration": 61,
    "start_time": "2022-08-31T22:38:34.517Z"
   },
   {
    "duration": 58,
    "start_time": "2022-08-31T22:38:47.090Z"
   },
   {
    "duration": 6,
    "start_time": "2022-08-31T22:38:51.730Z"
   },
   {
    "duration": 45,
    "start_time": "2022-08-31T22:39:15.365Z"
   },
   {
    "duration": 3,
    "start_time": "2022-08-31T22:39:38.894Z"
   },
   {
    "duration": 10,
    "start_time": "2022-08-31T22:39:45.869Z"
   },
   {
    "duration": 7,
    "start_time": "2022-08-31T22:39:52.611Z"
   },
   {
    "duration": 40,
    "start_time": "2022-08-31T22:40:10.540Z"
   },
   {
    "duration": 26,
    "start_time": "2022-08-31T22:40:23.166Z"
   },
   {
    "duration": 15,
    "start_time": "2022-08-31T22:41:42.093Z"
   },
   {
    "duration": 11,
    "start_time": "2022-08-31T22:42:28.057Z"
   },
   {
    "duration": 15,
    "start_time": "2022-08-31T22:43:06.669Z"
   },
   {
    "duration": 22,
    "start_time": "2022-08-31T22:43:11.411Z"
   },
   {
    "duration": 21,
    "start_time": "2022-08-31T22:43:13.324Z"
   },
   {
    "duration": 16,
    "start_time": "2022-08-31T22:43:45.651Z"
   },
   {
    "duration": 22,
    "start_time": "2022-08-31T22:43:51.165Z"
   },
   {
    "duration": 13,
    "start_time": "2022-08-31T22:45:00.931Z"
   },
   {
    "duration": 12,
    "start_time": "2022-08-31T22:45:02.718Z"
   },
   {
    "duration": 13,
    "start_time": "2022-08-31T22:45:03.322Z"
   },
   {
    "duration": 11,
    "start_time": "2022-08-31T22:45:04.051Z"
   },
   {
    "duration": 13,
    "start_time": "2022-08-31T22:45:04.711Z"
   },
   {
    "duration": 13,
    "start_time": "2022-08-31T22:45:24.168Z"
   },
   {
    "duration": 7,
    "start_time": "2022-08-31T22:46:02.241Z"
   },
   {
    "duration": 12,
    "start_time": "2022-08-31T22:46:14.139Z"
   },
   {
    "duration": 8,
    "start_time": "2022-08-31T22:46:17.555Z"
   },
   {
    "duration": 8,
    "start_time": "2022-08-31T22:47:12.342Z"
   },
   {
    "duration": 8,
    "start_time": "2022-08-31T22:47:15.066Z"
   },
   {
    "duration": 4,
    "start_time": "2022-08-31T22:49:12.486Z"
   },
   {
    "duration": 6,
    "start_time": "2022-08-31T22:49:18.398Z"
   },
   {
    "duration": 18,
    "start_time": "2022-08-31T22:49:27.998Z"
   },
   {
    "duration": 8,
    "start_time": "2022-08-31T22:50:07.511Z"
   },
   {
    "duration": 8,
    "start_time": "2022-08-31T22:50:14.204Z"
   },
   {
    "duration": 3,
    "start_time": "2022-08-31T22:50:20.251Z"
   },
   {
    "duration": 5,
    "start_time": "2022-08-31T22:51:02.329Z"
   },
   {
    "duration": 14,
    "start_time": "2022-08-31T22:51:06.746Z"
   },
   {
    "duration": 11,
    "start_time": "2022-08-31T22:51:10.365Z"
   },
   {
    "duration": 14,
    "start_time": "2022-08-31T22:51:13.991Z"
   },
   {
    "duration": 11,
    "start_time": "2022-08-31T22:51:16.072Z"
   },
   {
    "duration": 9,
    "start_time": "2022-08-31T22:52:11.490Z"
   },
   {
    "duration": 3,
    "start_time": "2022-08-31T22:52:26.620Z"
   },
   {
    "duration": 5,
    "start_time": "2022-08-31T22:52:37.717Z"
   },
   {
    "duration": 4,
    "start_time": "2022-08-31T22:52:40.448Z"
   }
  ],
  "colab": {
   "collapsed_sections": [
    "E0vqbgi9ay0H",
    "VUC88oWjTJw2",
    "atZAxtq4_Zcu"
   ],
   "name": "EmptyFinalProject.ipynb\"",
   "provenance": []
  },
  "kernelspec": {
   "display_name": "Python 3 (ipykernel)",
   "language": "python",
   "name": "python3"
  },
  "language_info": {
   "codemirror_mode": {
    "name": "ipython",
    "version": 3
   },
   "file_extension": ".py",
   "mimetype": "text/x-python",
   "name": "python",
   "nbconvert_exporter": "python",
   "pygments_lexer": "ipython3",
   "version": "3.9.12"
  },
  "toc": {
   "base_numbering": 1,
   "nav_menu": {},
   "number_sections": true,
   "sideBar": true,
   "skip_h1_title": true,
   "title_cell": "Table of Contents",
   "title_sidebar": "Contents",
   "toc_cell": false,
   "toc_position": {},
   "toc_section_display": true,
   "toc_window_display": false
  }
 },
 "nbformat": 4,
 "nbformat_minor": 4
}
